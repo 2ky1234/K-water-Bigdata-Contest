{
 "cells": [
  {
   "cell_type": "code",
   "execution_count": 1,
   "metadata": {},
   "outputs": [],
   "source": [
    "#-*- coding: utf-8 -*-"
   ]
  },
  {
   "cell_type": "code",
   "execution_count": 1,
   "metadata": {},
   "outputs": [
    {
     "name": "stderr",
     "output_type": "stream",
     "text": [
      "Using TensorFlow backend.\n"
     ]
    }
   ],
   "source": [
    "from tensorflow import keras\n",
    "\n",
    "import pandas as pd\n",
    "import numpy as np\n",
    "import matplotlib.pyplot as plt\n",
    "%matplotlib inline\n",
    "from pandas import DataFrame as df\n",
    "\n",
    "import numpy as np\n",
    "import matplotlib.pyplot as plt\n",
    "import pandas as pd\n",
    "import math\n",
    "\n",
    "import keras.backend as K\n",
    "from keras.models import Sequential\n",
    "from keras.layers import Dense\n",
    "from keras.layers import LSTM\n",
    "from sklearn.preprocessing import MinMaxScaler\n",
    "from sklearn.metrics import mean_squared_error\n",
    "from keras.callbacks import EarlyStopping"
   ]
  },
  {
   "cell_type": "code",
   "execution_count": 2,
   "metadata": {},
   "outputs": [],
   "source": [
    "df = pd.read_csv('C:/Users/chaeyoung/Desktop/경희대학교/공모전/K-water/데이터/하천데이터/river_final_no_na.csv', encoding = 'euc-kr')"
   ]
  },
  {
   "cell_type": "markdown",
   "metadata": {},
   "source": [
    "# 이상치 제거"
   ]
  },
  {
   "cell_type": "code",
   "execution_count": 3,
   "metadata": {},
   "outputs": [
    {
     "name": "stdout",
     "output_type": "stream",
     "text": [
      "ITEM_TEMP           13.700000\n",
      "ITEM_PH              0.700000\n",
      "ITEM_DOC             3.700000\n",
      "ITEM_BOD             1.807908\n",
      "ITEM_COD             3.700000\n",
      "ITEM_TN              1.980000\n",
      "MEAN_TEMP           15.700000\n",
      "L_TEMP              16.900000\n",
      "U_TEMP              15.400000\n",
      "MAX_MOMENT_WIND      3.300000\n",
      "MAX_MIN              2.100000\n",
      "MEAN_WIND            1.100000\n",
      "M_WIND_100         923.000000\n",
      "MEAN_DEW            17.500000\n",
      "L_REHU              26.000000\n",
      "MEAN_MOIS           21.490324\n",
      "MEAN_STPR           12.971768\n",
      "MEAN_hPa            14.900000\n",
      "U_hPa               12.728525\n",
      "L_hPa               12.000000\n",
      "MEAN_PRES           12.200000\n",
      "MEAN_SUN             3.145956\n",
      "SUM_SUN              6.300000\n",
      "MEAN_LAND           18.100000\n",
      "L_TEMP.1            18.100000\n",
      "ITEM_SS              7.500000\n",
      "ITEM_TP              0.063000\n",
      "dtype: float64\n"
     ]
    }
   ],
   "source": [
    "river = df\n",
    "\n",
    "# 결측치 제거\n",
    "river = river.dropna(axis=0)\n",
    "np.shape(river)\n",
    "\n",
    "Q1 = river.quantile(0.25)\n",
    "Q3 = river.quantile(0.75)\n",
    "IQR = Q3 - Q1\n",
    "print(IQR)\n",
    "\n",
    "river_out = river[~((river.iloc[:,1:] < (Q1 - 1.5 * IQR)) |(river.iloc[:,1:] > (Q3 + 1.5 * IQR))).any(axis=1)]\n",
    "river_out.shape\n",
    "\n",
    "temp = river_out"
   ]
  },
  {
   "cell_type": "code",
   "execution_count": 4,
   "metadata": {},
   "outputs": [
    {
     "data": {
      "text/html": [
       "<div>\n",
       "<style scoped>\n",
       "    .dataframe tbody tr th:only-of-type {\n",
       "        vertical-align: middle;\n",
       "    }\n",
       "\n",
       "    .dataframe tbody tr th {\n",
       "        vertical-align: top;\n",
       "    }\n",
       "\n",
       "    .dataframe thead th {\n",
       "        text-align: right;\n",
       "    }\n",
       "</style>\n",
       "<table border=\"1\" class=\"dataframe\">\n",
       "  <thead>\n",
       "    <tr style=\"text-align: right;\">\n",
       "      <th></th>\n",
       "      <th>ITEM_TEMP</th>\n",
       "      <th>ITEM_PH</th>\n",
       "      <th>ITEM_DOC</th>\n",
       "      <th>ITEM_BOD</th>\n",
       "      <th>ITEM_COD</th>\n",
       "      <th>ITEM_TN</th>\n",
       "      <th>MEAN_TEMP</th>\n",
       "      <th>L_TEMP</th>\n",
       "      <th>U_TEMP</th>\n",
       "      <th>MAX_MOMENT_WIND</th>\n",
       "      <th>...</th>\n",
       "      <th>U_hPa</th>\n",
       "      <th>L_hPa</th>\n",
       "      <th>MEAN_PRES</th>\n",
       "      <th>MEAN_SUN</th>\n",
       "      <th>SUM_SUN</th>\n",
       "      <th>MEAN_LAND</th>\n",
       "      <th>L_TEMP.1</th>\n",
       "      <th>ITEM_SS</th>\n",
       "      <th>ITEM_TP</th>\n",
       "      <th>key</th>\n",
       "    </tr>\n",
       "  </thead>\n",
       "  <tbody>\n",
       "    <tr>\n",
       "      <th>0</th>\n",
       "      <td>36.0</td>\n",
       "      <td>6.5</td>\n",
       "      <td>5.4</td>\n",
       "      <td>1.3</td>\n",
       "      <td>6.2</td>\n",
       "      <td>0.893</td>\n",
       "      <td>31.3</td>\n",
       "      <td>26.6</td>\n",
       "      <td>37.9</td>\n",
       "      <td>6.0</td>\n",
       "      <td>...</td>\n",
       "      <td>1006.4</td>\n",
       "      <td>1003.9</td>\n",
       "      <td>1005.3</td>\n",
       "      <td>13.9</td>\n",
       "      <td>12.1</td>\n",
       "      <td>40.6</td>\n",
       "      <td>24.7</td>\n",
       "      <td>10.2</td>\n",
       "      <td>0.025</td>\n",
       "      <td>2018.08.02부안</td>\n",
       "    </tr>\n",
       "    <tr>\n",
       "      <th>2</th>\n",
       "      <td>35.8</td>\n",
       "      <td>8.5</td>\n",
       "      <td>10.2</td>\n",
       "      <td>3.0</td>\n",
       "      <td>9.0</td>\n",
       "      <td>0.629</td>\n",
       "      <td>32.0</td>\n",
       "      <td>26.3</td>\n",
       "      <td>37.8</td>\n",
       "      <td>6.1</td>\n",
       "      <td>...</td>\n",
       "      <td>1008.9</td>\n",
       "      <td>1004.8</td>\n",
       "      <td>1006.9</td>\n",
       "      <td>14.2</td>\n",
       "      <td>12.6</td>\n",
       "      <td>40.8</td>\n",
       "      <td>25.2</td>\n",
       "      <td>6.4</td>\n",
       "      <td>0.031</td>\n",
       "      <td>2018.07.24안동</td>\n",
       "    </tr>\n",
       "    <tr>\n",
       "      <th>6</th>\n",
       "      <td>35.5</td>\n",
       "      <td>8.7</td>\n",
       "      <td>9.2</td>\n",
       "      <td>3.2</td>\n",
       "      <td>9.8</td>\n",
       "      <td>2.618</td>\n",
       "      <td>32.3</td>\n",
       "      <td>27.2</td>\n",
       "      <td>37.1</td>\n",
       "      <td>5.9</td>\n",
       "      <td>...</td>\n",
       "      <td>1008.1</td>\n",
       "      <td>1004.5</td>\n",
       "      <td>1006.6</td>\n",
       "      <td>14.2</td>\n",
       "      <td>8.6</td>\n",
       "      <td>39.4</td>\n",
       "      <td>26.0</td>\n",
       "      <td>8.2</td>\n",
       "      <td>0.046</td>\n",
       "      <td>2018.07.25대구</td>\n",
       "    </tr>\n",
       "    <tr>\n",
       "      <th>7</th>\n",
       "      <td>35.5</td>\n",
       "      <td>8.9</td>\n",
       "      <td>10.7</td>\n",
       "      <td>3.3</td>\n",
       "      <td>7.6</td>\n",
       "      <td>0.382</td>\n",
       "      <td>28.5</td>\n",
       "      <td>21.6</td>\n",
       "      <td>38.2</td>\n",
       "      <td>6.1</td>\n",
       "      <td>...</td>\n",
       "      <td>1011.3</td>\n",
       "      <td>1007.8</td>\n",
       "      <td>1009.7</td>\n",
       "      <td>13.7</td>\n",
       "      <td>10.7</td>\n",
       "      <td>35.8</td>\n",
       "      <td>20.8</td>\n",
       "      <td>9.4</td>\n",
       "      <td>0.023</td>\n",
       "      <td>2016.08.10경주시</td>\n",
       "    </tr>\n",
       "    <tr>\n",
       "      <th>10</th>\n",
       "      <td>35.5</td>\n",
       "      <td>9.1</td>\n",
       "      <td>13.7</td>\n",
       "      <td>2.1</td>\n",
       "      <td>5.0</td>\n",
       "      <td>2.621</td>\n",
       "      <td>28.7</td>\n",
       "      <td>24.8</td>\n",
       "      <td>34.0</td>\n",
       "      <td>6.8</td>\n",
       "      <td>...</td>\n",
       "      <td>1012.7</td>\n",
       "      <td>1009.3</td>\n",
       "      <td>1011.2</td>\n",
       "      <td>13.9</td>\n",
       "      <td>0.8</td>\n",
       "      <td>33.2</td>\n",
       "      <td>23.1</td>\n",
       "      <td>4.3</td>\n",
       "      <td>0.169</td>\n",
       "      <td>2015.08.03김해시</td>\n",
       "    </tr>\n",
       "  </tbody>\n",
       "</table>\n",
       "<p>5 rows × 28 columns</p>\n",
       "</div>"
      ],
      "text/plain": [
       "    ITEM_TEMP  ITEM_PH  ITEM_DOC  ITEM_BOD  ITEM_COD  ITEM_TN  MEAN_TEMP  \\\n",
       "0        36.0      6.5       5.4       1.3       6.2    0.893       31.3   \n",
       "2        35.8      8.5      10.2       3.0       9.0    0.629       32.0   \n",
       "6        35.5      8.7       9.2       3.2       9.8    2.618       32.3   \n",
       "7        35.5      8.9      10.7       3.3       7.6    0.382       28.5   \n",
       "10       35.5      9.1      13.7       2.1       5.0    2.621       28.7   \n",
       "\n",
       "    L_TEMP  U_TEMP  MAX_MOMENT_WIND  ...   U_hPa   L_hPa  MEAN_PRES  MEAN_SUN  \\\n",
       "0     26.6    37.9              6.0  ...  1006.4  1003.9     1005.3      13.9   \n",
       "2     26.3    37.8              6.1  ...  1008.9  1004.8     1006.9      14.2   \n",
       "6     27.2    37.1              5.9  ...  1008.1  1004.5     1006.6      14.2   \n",
       "7     21.6    38.2              6.1  ...  1011.3  1007.8     1009.7      13.7   \n",
       "10    24.8    34.0              6.8  ...  1012.7  1009.3     1011.2      13.9   \n",
       "\n",
       "    SUM_SUN  MEAN_LAND  L_TEMP.1  ITEM_SS  ITEM_TP            key  \n",
       "0      12.1       40.6      24.7     10.2    0.025   2018.08.02부안  \n",
       "2      12.6       40.8      25.2      6.4    0.031   2018.07.24안동  \n",
       "6       8.6       39.4      26.0      8.2    0.046   2018.07.25대구  \n",
       "7      10.7       35.8      20.8      9.4    0.023  2016.08.10경주시  \n",
       "10      0.8       33.2      23.1      4.3    0.169  2015.08.03김해시  \n",
       "\n",
       "[5 rows x 28 columns]"
      ]
     },
     "execution_count": 4,
     "metadata": {},
     "output_type": "execute_result"
    }
   ],
   "source": [
    "temp.head()"
   ]
  },
  {
   "cell_type": "markdown",
   "metadata": {},
   "source": [
    "# 변수 스케일링"
   ]
  },
  {
   "cell_type": "code",
   "execution_count": 5,
   "metadata": {},
   "outputs": [],
   "source": [
    "time = temp[['key']]\n",
    "not_time = temp[['ITEM_TEMP', 'ITEM_PH', 'ITEM_DOC', 'ITEM_BOD', 'ITEM_COD', 'ITEM_TN',\n",
    " 'MEAN_TEMP', 'L_TEMP', 'U_TEMP', 'MAX_MOMENT_WIND', 'MAX_MIN', 'MEAN_WIND', 'M_WIND_100',\n",
    " 'MEAN_DEW', 'L_REHU', 'MEAN_MOIS', 'MEAN_STPR', 'MEAN_hPa', 'U_hPa', 'L_hPa', 'MEAN_PRES',\n",
    " 'MEAN_SUN', 'SUM_SUN', 'MEAN_LAND', 'L_TEMP.1', 'ITEM_SS','ITEM_TP' ]]"
   ]
  },
  {
   "cell_type": "code",
   "execution_count": 6,
   "metadata": {},
   "outputs": [
    {
     "data": {
      "text/html": [
       "<div>\n",
       "<style scoped>\n",
       "    .dataframe tbody tr th:only-of-type {\n",
       "        vertical-align: middle;\n",
       "    }\n",
       "\n",
       "    .dataframe tbody tr th {\n",
       "        vertical-align: top;\n",
       "    }\n",
       "\n",
       "    .dataframe thead th {\n",
       "        text-align: right;\n",
       "    }\n",
       "</style>\n",
       "<table border=\"1\" class=\"dataframe\">\n",
       "  <thead>\n",
       "    <tr style=\"text-align: right;\">\n",
       "      <th></th>\n",
       "      <th>ITEM_TEMP</th>\n",
       "      <th>ITEM_PH</th>\n",
       "      <th>ITEM_DOC</th>\n",
       "      <th>ITEM_BOD</th>\n",
       "      <th>ITEM_COD</th>\n",
       "      <th>ITEM_TN</th>\n",
       "      <th>MEAN_TEMP</th>\n",
       "      <th>L_TEMP</th>\n",
       "      <th>U_TEMP</th>\n",
       "      <th>MAX_MOMENT_WIND</th>\n",
       "      <th>...</th>\n",
       "      <th>MEAN_hPa</th>\n",
       "      <th>U_hPa</th>\n",
       "      <th>L_hPa</th>\n",
       "      <th>MEAN_PRES</th>\n",
       "      <th>MEAN_SUN</th>\n",
       "      <th>SUM_SUN</th>\n",
       "      <th>MEAN_LAND</th>\n",
       "      <th>L_TEMP.1</th>\n",
       "      <th>ITEM_SS</th>\n",
       "      <th>ITEM_TP</th>\n",
       "    </tr>\n",
       "  </thead>\n",
       "  <tbody>\n",
       "    <tr>\n",
       "      <th>0</th>\n",
       "      <td>36.0</td>\n",
       "      <td>6.5</td>\n",
       "      <td>5.4</td>\n",
       "      <td>1.3</td>\n",
       "      <td>6.2</td>\n",
       "      <td>0.893</td>\n",
       "      <td>31.3</td>\n",
       "      <td>26.6</td>\n",
       "      <td>37.9</td>\n",
       "      <td>6.0</td>\n",
       "      <td>...</td>\n",
       "      <td>1004.0</td>\n",
       "      <td>1006.4</td>\n",
       "      <td>1003.9</td>\n",
       "      <td>1005.3</td>\n",
       "      <td>13.9</td>\n",
       "      <td>12.1</td>\n",
       "      <td>40.6</td>\n",
       "      <td>24.7</td>\n",
       "      <td>10.2</td>\n",
       "      <td>0.025</td>\n",
       "    </tr>\n",
       "    <tr>\n",
       "      <th>2</th>\n",
       "      <td>35.8</td>\n",
       "      <td>8.5</td>\n",
       "      <td>10.2</td>\n",
       "      <td>3.0</td>\n",
       "      <td>9.0</td>\n",
       "      <td>0.629</td>\n",
       "      <td>32.0</td>\n",
       "      <td>26.3</td>\n",
       "      <td>37.8</td>\n",
       "      <td>6.1</td>\n",
       "      <td>...</td>\n",
       "      <td>991.4</td>\n",
       "      <td>1008.9</td>\n",
       "      <td>1004.8</td>\n",
       "      <td>1006.9</td>\n",
       "      <td>14.2</td>\n",
       "      <td>12.6</td>\n",
       "      <td>40.8</td>\n",
       "      <td>25.2</td>\n",
       "      <td>6.4</td>\n",
       "      <td>0.031</td>\n",
       "    </tr>\n",
       "    <tr>\n",
       "      <th>6</th>\n",
       "      <td>35.5</td>\n",
       "      <td>8.7</td>\n",
       "      <td>9.2</td>\n",
       "      <td>3.2</td>\n",
       "      <td>9.8</td>\n",
       "      <td>2.618</td>\n",
       "      <td>32.3</td>\n",
       "      <td>27.2</td>\n",
       "      <td>37.1</td>\n",
       "      <td>5.9</td>\n",
       "      <td>...</td>\n",
       "      <td>1000.6</td>\n",
       "      <td>1008.1</td>\n",
       "      <td>1004.5</td>\n",
       "      <td>1006.6</td>\n",
       "      <td>14.2</td>\n",
       "      <td>8.6</td>\n",
       "      <td>39.4</td>\n",
       "      <td>26.0</td>\n",
       "      <td>8.2</td>\n",
       "      <td>0.046</td>\n",
       "    </tr>\n",
       "    <tr>\n",
       "      <th>7</th>\n",
       "      <td>35.5</td>\n",
       "      <td>8.9</td>\n",
       "      <td>10.7</td>\n",
       "      <td>3.3</td>\n",
       "      <td>7.6</td>\n",
       "      <td>0.382</td>\n",
       "      <td>28.5</td>\n",
       "      <td>21.6</td>\n",
       "      <td>38.2</td>\n",
       "      <td>6.1</td>\n",
       "      <td>...</td>\n",
       "      <td>1005.5</td>\n",
       "      <td>1011.3</td>\n",
       "      <td>1007.8</td>\n",
       "      <td>1009.7</td>\n",
       "      <td>13.7</td>\n",
       "      <td>10.7</td>\n",
       "      <td>35.8</td>\n",
       "      <td>20.8</td>\n",
       "      <td>9.4</td>\n",
       "      <td>0.023</td>\n",
       "    </tr>\n",
       "    <tr>\n",
       "      <th>10</th>\n",
       "      <td>35.5</td>\n",
       "      <td>9.1</td>\n",
       "      <td>13.7</td>\n",
       "      <td>2.1</td>\n",
       "      <td>5.0</td>\n",
       "      <td>2.621</td>\n",
       "      <td>28.7</td>\n",
       "      <td>24.8</td>\n",
       "      <td>34.0</td>\n",
       "      <td>6.8</td>\n",
       "      <td>...</td>\n",
       "      <td>1004.5</td>\n",
       "      <td>1012.7</td>\n",
       "      <td>1009.3</td>\n",
       "      <td>1011.2</td>\n",
       "      <td>13.9</td>\n",
       "      <td>0.8</td>\n",
       "      <td>33.2</td>\n",
       "      <td>23.1</td>\n",
       "      <td>4.3</td>\n",
       "      <td>0.169</td>\n",
       "    </tr>\n",
       "  </tbody>\n",
       "</table>\n",
       "<p>5 rows × 27 columns</p>\n",
       "</div>"
      ],
      "text/plain": [
       "    ITEM_TEMP  ITEM_PH  ITEM_DOC  ITEM_BOD  ITEM_COD  ITEM_TN  MEAN_TEMP  \\\n",
       "0        36.0      6.5       5.4       1.3       6.2    0.893       31.3   \n",
       "2        35.8      8.5      10.2       3.0       9.0    0.629       32.0   \n",
       "6        35.5      8.7       9.2       3.2       9.8    2.618       32.3   \n",
       "7        35.5      8.9      10.7       3.3       7.6    0.382       28.5   \n",
       "10       35.5      9.1      13.7       2.1       5.0    2.621       28.7   \n",
       "\n",
       "    L_TEMP  U_TEMP  MAX_MOMENT_WIND  ...  MEAN_hPa   U_hPa   L_hPa  MEAN_PRES  \\\n",
       "0     26.6    37.9              6.0  ...    1004.0  1006.4  1003.9     1005.3   \n",
       "2     26.3    37.8              6.1  ...     991.4  1008.9  1004.8     1006.9   \n",
       "6     27.2    37.1              5.9  ...    1000.6  1008.1  1004.5     1006.6   \n",
       "7     21.6    38.2              6.1  ...    1005.5  1011.3  1007.8     1009.7   \n",
       "10    24.8    34.0              6.8  ...    1004.5  1012.7  1009.3     1011.2   \n",
       "\n",
       "    MEAN_SUN  SUM_SUN  MEAN_LAND  L_TEMP.1  ITEM_SS  ITEM_TP  \n",
       "0       13.9     12.1       40.6      24.7     10.2    0.025  \n",
       "2       14.2     12.6       40.8      25.2      6.4    0.031  \n",
       "6       14.2      8.6       39.4      26.0      8.2    0.046  \n",
       "7       13.7     10.7       35.8      20.8      9.4    0.023  \n",
       "10      13.9      0.8       33.2      23.1      4.3    0.169  \n",
       "\n",
       "[5 rows x 27 columns]"
      ]
     },
     "execution_count": 6,
     "metadata": {},
     "output_type": "execute_result"
    }
   ],
   "source": [
    "not_time.head()"
   ]
  },
  {
   "cell_type": "code",
   "execution_count": 7,
   "metadata": {},
   "outputs": [],
   "source": [
    "min_max_scaler = MinMaxScaler()\n",
    "not_time = min_max_scaler.fit_transform(not_time)\n",
    "not_time = pd.DataFrame(not_time, index = not_time[:,0])"
   ]
  },
  {
   "cell_type": "code",
   "execution_count": 8,
   "metadata": {},
   "outputs": [],
   "source": [
    "not_time.columns = ['ITEM_TEMP', 'ITEM_PH', 'ITEM_DOC', 'ITEM_BOD', 'ITEM_COD', 'ITEM_TN',\n",
    " 'MEAN_TEMP', 'L_TEMP', 'U_TEMP', 'MAX_MOMENT_WIND', 'MAX_MIN', 'MEAN_WIND', 'M_WIND_100',\n",
    " 'MEAN_DEW', 'L_REHU', 'MEAN_MOIS', 'MEAN_STPR', 'MEAN_hPa', 'U_hPa', 'L_hPa', 'MEAN_PRES',\n",
    " 'MEAN_SUN', 'SUM_SUN', 'MEAN_LAND', 'L_TEMP.1', 'ITEM_SS','ITEM_TP']\n",
    "not_time = not_time[['ITEM_TEMP', 'ITEM_PH', 'ITEM_DOC', 'ITEM_BOD', 'ITEM_COD', 'ITEM_TN',\n",
    " 'MEAN_TEMP', 'L_TEMP', 'U_TEMP', 'MAX_MOMENT_WIND', 'MAX_MIN', 'MEAN_WIND', 'M_WIND_100',\n",
    " 'MEAN_DEW', 'L_REHU', 'MEAN_MOIS', 'MEAN_STPR', 'MEAN_hPa', 'U_hPa', 'L_hPa', 'MEAN_PRES',\n",
    " 'MEAN_SUN', 'SUM_SUN', 'MEAN_LAND', 'L_TEMP.1', 'ITEM_SS','ITEM_TP']]\n",
    "\n",
    "not_time.reset_index(drop=True, inplace=True)\n",
    "time.reset_index(drop=True, inplace=True)"
   ]
  },
  {
   "cell_type": "code",
   "execution_count": 9,
   "metadata": {},
   "outputs": [],
   "source": [
    "temp = pd.concat([time, not_time], axis = 1)"
   ]
  },
  {
   "cell_type": "code",
   "execution_count": 10,
   "metadata": {},
   "outputs": [],
   "source": [
    "#temp.to_csv('raw_river.csv')"
   ]
  },
  {
   "cell_type": "code",
   "execution_count": 11,
   "metadata": {},
   "outputs": [],
   "source": [
    "tem = temp[['key']]"
   ]
  },
  {
   "cell_type": "markdown",
   "metadata": {},
   "source": [
    "# 정규표현식(날짜 전처리)"
   ]
  },
  {
   "cell_type": "code",
   "execution_count": 12,
   "metadata": {},
   "outputs": [],
   "source": [
    "import re\n",
    "\n",
    "regex = r\"[가-힇]\"\n",
    "\n",
    "#test_str = \"2014.06.09서울\"\n",
    "\n",
    "subst = \"\"\n",
    "\n",
    "# You can manually specify the number of replacements by changing the 4th argument\n",
    "new_temp=[]\n",
    "#result = re.sub(regex, subst, test_str, 0, re.MULTILINE)\n",
    "\n",
    "for i in tem['key']:\n",
    "    new_temp.append(re.sub(regex, subst, i, 0, re.MULTILINE))\n",
    "\n",
    "    \n",
    "regex = r\"[.]\"\n",
    "\n",
    "#test_str = \"2014.06.09서울\"\n",
    "\n",
    "subst = \"-\"\n",
    "\n",
    "# You can manually specify the number of replacements by changing the 4th argument\n",
    "new_temp2=[]\n",
    "#result = re.sub(regex, subst, test_str, 0, re.MULTILINE)\n",
    "\n",
    "for i in new_temp:\n",
    "    new_temp2.append(re.sub(regex, subst, i, 0, re.MULTILINE))\n",
    "    \n",
    "regex = r\"[(]|[)]\"\n",
    "\n",
    "#test_str = \"2014.06.09서울\"\n",
    "\n",
    "subst = \"\"\n",
    "\n",
    "# You can manually specify the number of replacements by changing the 4th argument\n",
    "new_temp3=[]\n",
    "#result = re.sub(regex, subst, test_str, 0, re.MULTILINE)\n",
    "\n",
    "for i in new_temp2:\n",
    "    new_temp3.append(re.sub(regex, subst, i, 0, re.MULTILINE))\n"
   ]
  },
  {
   "cell_type": "code",
   "execution_count": 13,
   "metadata": {},
   "outputs": [],
   "source": [
    "temp['key'] = new_temp3"
   ]
  },
  {
   "cell_type": "code",
   "execution_count": 14,
   "metadata": {},
   "outputs": [],
   "source": [
    "key = list(temp['key'])\n",
    "\n",
    "#key_len = [i for i in key if len(i)==10]\n",
    "\n",
    "key_index = []\n",
    "for i in range(0,len(key)):\n",
    "    if len(key[i]) == 10 and key[i] != '2014-07-00':\n",
    "        key_index.append(i)\n",
    "#key_index"
   ]
  },
  {
   "cell_type": "code",
   "execution_count": 15,
   "metadata": {},
   "outputs": [],
   "source": [
    "temp = temp.iloc[key_index]\n",
    "#for i in range(0,len(temp['key'])):\n",
    " #   if len(temp['key'][i]) < 10:\n",
    " #       temp = temp.drop([i])"
   ]
  },
  {
   "cell_type": "code",
   "execution_count": 16,
   "metadata": {},
   "outputs": [],
   "source": [
    "import datetime"
   ]
  },
  {
   "cell_type": "code",
   "execution_count": 17,
   "metadata": {},
   "outputs": [],
   "source": [
    "temp = temp[temp['key'] != '15-Mar']\n",
    "temp = temp[temp['key'] != '16-Oct']\n",
    "temp = temp[temp['key'] != '16-Sep']\n",
    "temp = temp[temp['key'] != '16-Jul']\n",
    "temp = temp[temp['key'] != '16-May']\n",
    "temp = temp[temp['key'] != '16-Mar']\n",
    "temp = temp[temp['key'] != '15-Dec']\n",
    "temp = temp[temp['key'] != '15-Nov']\n",
    "temp = temp[temp['key'] != '15-Oct']\n",
    "temp = temp[temp['key'] != '15-Sep']\n",
    "temp = temp[temp['key'] != '15-Aug']\n",
    "temp = temp[temp['key'] != '15-Jul']\n",
    "temp = temp[temp['key'] != '15-May']\n",
    "temp = temp[temp['key'] != '15-Apr']\n",
    "temp = temp[temp['key'] != '15-Feb']\n",
    "temp = temp[temp['key'] != '15-Jan']\n",
    "temp = temp[temp['key'] != '16-Feb']\n",
    "temp = temp[temp['key'] != '16-Dec']"
   ]
  },
  {
   "cell_type": "code",
   "execution_count": 18,
   "metadata": {},
   "outputs": [],
   "source": [
    "temp['key'] = pd.to_datetime(temp['key'], format = '%Y-%m-%d')"
   ]
  },
  {
   "cell_type": "code",
   "execution_count": 19,
   "metadata": {},
   "outputs": [],
   "source": [
    "temp = temp.set_index('key')"
   ]
  },
  {
   "cell_type": "markdown",
   "metadata": {},
   "source": [
    "# Train test set 생성"
   ]
  },
  {
   "cell_type": "code",
   "execution_count": 20,
   "metadata": {},
   "outputs": [],
   "source": [
    "dataset = temp.sort_index()\n",
    "train_size = int(len(dataset) * 0.8)\n",
    "test_size = len(dataset) - train_size\n",
    "train = dataset.iloc[0:train_size,:]\n",
    "test = dataset.iloc[train_size:len(dataset),]"
   ]
  },
  {
   "cell_type": "code",
   "execution_count": 21,
   "metadata": {},
   "outputs": [],
   "source": [
    "y_train = train[['ITEM_COD']].sort_index()\n",
    "x_train = train[[ 'ITEM_BOD','ITEM_SS','ITEM_TP','ITEM_TN','MEAN_hPa','ITEM_TEMP','ITEM_DOC','MEAN_MOIS','ITEM_PH','MEAN_LAND','MEAN_SUN','L_TEMP.1','U_TEMP','MEAN_STPR','U_hPa','M_WIND_100','MEAN_DEW','MEAN_TEMP','L_TEMP']].sort_index()\n",
    "\n",
    "y_test = test[['ITEM_COD']].sort_index()\n",
    "x_test = test[['ITEM_BOD','ITEM_SS','ITEM_TP','ITEM_TN','MEAN_hPa','ITEM_TEMP','ITEM_DOC','MEAN_MOIS','ITEM_PH','MEAN_LAND','MEAN_SUN','L_TEMP.1','U_TEMP','MEAN_STPR','U_hPa','M_WIND_100','MEAN_DEW','MEAN_TEMP','L_TEMP']].sort_index()"
   ]
  },
  {
   "cell_type": "markdown",
   "metadata": {},
   "source": [
    "# ndarray로 변환하기"
   ]
  },
  {
   "cell_type": "code",
   "execution_count": 22,
   "metadata": {},
   "outputs": [],
   "source": [
    "x_train = x_train.values\n",
    "x_test = x_test.values\n",
    "\n",
    "y_train = y_train.values\n",
    "y_test = y_test.values"
   ]
  },
  {
   "cell_type": "code",
   "execution_count": 23,
   "metadata": {},
   "outputs": [],
   "source": [
    "x_train_t = x_train.reshape(x_train.shape[0],19,1)\n",
    "x_test_t = x_test.reshape(x_test.shape[0],19,1)"
   ]
  },
  {
   "cell_type": "code",
   "execution_count": 24,
   "metadata": {},
   "outputs": [
    {
     "name": "stdout",
     "output_type": "stream",
     "text": [
      "최종 DATA\n",
      "(85958, 19, 1)\n"
     ]
    }
   ],
   "source": [
    "print(\"최종 DATA\")\n",
    "print(x_train_t.shape)"
   ]
  },
  {
   "cell_type": "markdown",
   "metadata": {},
   "source": [
    "# LSTM 모델 만들기"
   ]
  },
  {
   "cell_type": "code",
   "execution_count": 25,
   "metadata": {},
   "outputs": [],
   "source": [
    "K.clear_session()\n",
    "model = Sequential()\n",
    "model.add(LSTM(20,input_shape = (19,1))) # layer = 20\n",
    "model.add(Dense(1)) # output = 1\n",
    "model.compile(loss = 'mean_squared_error', optimizer = 'adam')\n",
    "early_stop = EarlyStopping(monitor = 'loss', patience = 1, verbose = 1, mode = 'auto')"
   ]
  },
  {
   "cell_type": "code",
   "execution_count": 32,
   "metadata": {},
   "outputs": [
    {
     "name": "stdout",
     "output_type": "stream",
     "text": [
      "Epoch 1/30\n",
      "85958/85958 [==============================] - 17s 203us/step - loss: 0.0108\n",
      "Epoch 2/30\n",
      "85958/85958 [==============================] - 16s 181us/step - loss: 0.0108\n",
      "Epoch 3/30\n",
      "85958/85958 [==============================] - 15s 180us/step - loss: 0.0108\n",
      "Epoch 4/30\n",
      "85958/85958 [==============================] - 15s 176us/step - loss: 0.0108\n",
      "Epoch 5/30\n",
      "85958/85958 [==============================] - 17s 194us/step - loss: 0.0107\n",
      "Epoch 6/30\n",
      "85958/85958 [==============================] - 17s 197us/step - loss: 0.0107\n",
      "Epoch 7/30\n",
      "85958/85958 [==============================] - 17s 196us/step - loss: 0.01070s -\n",
      "Epoch 8/30\n",
      "85958/85958 [==============================] - 16s 187us/step - loss: 0.0107\n",
      "Epoch 9/30\n",
      "85958/85958 [==============================] - 15s 179us/step - loss: 0.01070s - loss: 0.0\n",
      "Epoch 10/30\n",
      "85958/85958 [==============================] - 17s 194us/step - loss: 0.0107\n",
      "Epoch 00010: early stopping\n"
     ]
    },
    {
     "data": {
      "text/plain": [
       "<keras.callbacks.callbacks.History at 0x190144bb908>"
      ]
     },
     "execution_count": 32,
     "metadata": {},
     "output_type": "execute_result"
    }
   ],
   "source": [
    "model.fit(x_train_t, y_train, epochs = 30, batch_size = 100, verbose = 1, callbacks = [early_stop])"
   ]
  },
  {
   "cell_type": "code",
   "execution_count": 33,
   "metadata": {},
   "outputs": [
    {
     "data": {
      "text/html": [
       "<div>\n",
       "<style scoped>\n",
       "    .dataframe tbody tr th:only-of-type {\n",
       "        vertical-align: middle;\n",
       "    }\n",
       "\n",
       "    .dataframe tbody tr th {\n",
       "        vertical-align: top;\n",
       "    }\n",
       "\n",
       "    .dataframe thead th {\n",
       "        text-align: right;\n",
       "    }\n",
       "</style>\n",
       "<table border=\"1\" class=\"dataframe\">\n",
       "  <thead>\n",
       "    <tr style=\"text-align: right;\">\n",
       "      <th></th>\n",
       "      <th>ITEM_COD_TEST</th>\n",
       "      <th>ITEM_COD_PRED</th>\n",
       "    </tr>\n",
       "  </thead>\n",
       "  <tbody>\n",
       "    <tr>\n",
       "      <th>0</th>\n",
       "      <td>0.373984</td>\n",
       "      <td>0.396038</td>\n",
       "    </tr>\n",
       "    <tr>\n",
       "      <th>1</th>\n",
       "      <td>0.203252</td>\n",
       "      <td>0.258344</td>\n",
       "    </tr>\n",
       "    <tr>\n",
       "      <th>2</th>\n",
       "      <td>0.617886</td>\n",
       "      <td>0.520602</td>\n",
       "    </tr>\n",
       "    <tr>\n",
       "      <th>3</th>\n",
       "      <td>0.317073</td>\n",
       "      <td>0.208127</td>\n",
       "    </tr>\n",
       "    <tr>\n",
       "      <th>4</th>\n",
       "      <td>0.325203</td>\n",
       "      <td>0.430244</td>\n",
       "    </tr>\n",
       "  </tbody>\n",
       "</table>\n",
       "</div>"
      ],
      "text/plain": [
       "   ITEM_COD_TEST  ITEM_COD_PRED\n",
       "0       0.373984       0.396038\n",
       "1       0.203252       0.258344\n",
       "2       0.617886       0.520602\n",
       "3       0.317073       0.208127\n",
       "4       0.325203       0.430244"
      ]
     },
     "execution_count": 33,
     "metadata": {},
     "output_type": "execute_result"
    }
   ],
   "source": [
    "y_pred = model.predict(x_test_t)\n",
    "\n",
    "y_test = pd.DataFrame(y_test, columns = ['ITEM_COD_TEST'])\n",
    "y_pred = pd.DataFrame(y_pred, columns = ['ITEM_COD_PRED'])\n",
    "\n",
    "result = pd.concat([y_test, y_pred], axis = 1)\n",
    "result = pd.DataFrame(result, columns = ['ITEM_COD_TEST', 'ITEM_COD_PRED'])\n",
    "\n",
    "result.head()"
   ]
  },
  {
   "cell_type": "markdown",
   "metadata": {},
   "source": [
    "# RMSE"
   ]
  },
  {
   "cell_type": "code",
   "execution_count": 34,
   "metadata": {},
   "outputs": [
    {
     "data": {
      "text/plain": [
       "0.11039059505225307"
      ]
     },
     "execution_count": 34,
     "metadata": {},
     "output_type": "execute_result"
    }
   ],
   "source": [
    "from sklearn.metrics import mean_squared_error\n",
    "mse = mean_squared_error(result['ITEM_COD_TEST'], result['ITEM_COD_PRED'])\n",
    "rmse = np.sqrt(mse)\n",
    "rmse"
   ]
  },
  {
   "cell_type": "markdown",
   "metadata": {},
   "source": [
    "# R^2"
   ]
  },
  {
   "cell_type": "code",
   "execution_count": 35,
   "metadata": {},
   "outputs": [
    {
     "data": {
      "text/plain": [
       "0.5093246972232575"
      ]
     },
     "execution_count": 35,
     "metadata": {},
     "output_type": "execute_result"
    }
   ],
   "source": [
    "RSS = 0\n",
    "for i in range(0,len(result)):\n",
    "    RSS += pow((result['ITEM_COD_PRED'][i] - result['ITEM_COD_TEST'][i]),2)  ## residual sum of squares\n",
    "    \n",
    "TSS = 0\n",
    "for i in range(0,len(result)):\n",
    "    TSS += pow((result['ITEM_COD_TEST'][i]- result['ITEM_COD_TEST'].mean()), 2)  ## total sum of squares\n",
    "    \n",
    "R_Square = 1 - RSS/TSS\n",
    "R_Square"
   ]
  },
  {
   "cell_type": "markdown",
   "metadata": {},
   "source": [
    "# 그래프 그리기"
   ]
  },
  {
   "cell_type": "code",
   "execution_count": 36,
   "metadata": {},
   "outputs": [
    {
     "data": {
      "text/plain": [
       "<matplotlib.axes._subplots.AxesSubplot at 0x19016c8b9b0>"
      ]
     },
     "execution_count": 36,
     "metadata": {},
     "output_type": "execute_result"
    },
    {
     "data": {
      "image/png": "[encoded data removed]",
      "text/plain": [
       "<Figure size 432x288 with 1 Axes>"
      ]
     },
     "metadata": {
      "needs_background": "light"
     },
     "output_type": "display_data"
    }
   ],
   "source": [
    "result.plot()"
   ]
  }
 ],
 "metadata": {
  "kernelspec": {
   "display_name": "Python 3",
   "language": "python",
   "name": "python3"
  },
  "language_info": {
   "codemirror_mode": {
    "name": "ipython",
    "version": 3
   },
   "file_extension": ".py",
   "mimetype": "text/x-python",
   "name": "python",
   "nbconvert_exporter": "python",
   "pygments_lexer": "ipython3",
   "version": "3.7.3"
  }
 },
 "nbformat": 4,
 "nbformat_minor": 2
}
