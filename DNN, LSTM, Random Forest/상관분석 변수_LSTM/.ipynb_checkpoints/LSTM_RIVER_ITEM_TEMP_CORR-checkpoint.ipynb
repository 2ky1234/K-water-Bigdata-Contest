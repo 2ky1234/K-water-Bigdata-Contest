{
 "cells": [
  {
   "cell_type": "code",
   "execution_count": 1,
   "metadata": {},
   "outputs": [],
   "source": [
    "#-*- coding: utf-8 -*-"
   ]
  },
  {
   "cell_type": "code",
   "execution_count": 2,
   "metadata": {},
   "outputs": [
    {
     "name": "stderr",
     "output_type": "stream",
     "text": [
      "Using TensorFlow backend.\n"
     ]
    }
   ],
   "source": [
    "from tensorflow import keras\n",
    "\n",
    "import pandas as pd\n",
    "import numpy as np\n",
    "import matplotlib.pyplot as plt\n",
    "%matplotlib inline\n",
    "from pandas import DataFrame as df\n",
    "\n",
    "import numpy as np\n",
    "import matplotlib.pyplot as plt\n",
    "import pandas as pd\n",
    "import math\n",
    "\n",
    "import keras.backend as K\n",
    "from keras.models import Sequential\n",
    "from keras.layers import Dense\n",
    "from keras.layers import LSTM\n",
    "from sklearn.preprocessing import MinMaxScaler\n",
    "from sklearn.metrics import mean_squared_error\n",
    "from keras.callbacks import EarlyStopping"
   ]
  },
  {
   "cell_type": "code",
   "execution_count": 3,
   "metadata": {},
   "outputs": [],
   "source": [
    "df = pd.read_csv('C:/Users/chaeyoung/Desktop/경희대학교/공모전/K-water/데이터/하천데이터/river_final_no_na.csv', encoding = 'euc-kr')"
   ]
  },
  {
   "cell_type": "markdown",
   "metadata": {},
   "source": [
    "# 이상치 제거"
   ]
  },
  {
   "cell_type": "code",
   "execution_count": 4,
   "metadata": {},
   "outputs": [
    {
     "name": "stdout",
     "output_type": "stream",
     "text": [
      "ITEM_TEMP           13.700000\n",
      "ITEM_PH              0.700000\n",
      "ITEM_DOC             3.700000\n",
      "ITEM_BOD             1.807908\n",
      "ITEM_COD             3.700000\n",
      "ITEM_TN              1.980000\n",
      "MEAN_TEMP           15.700000\n",
      "L_TEMP              16.900000\n",
      "U_TEMP              15.400000\n",
      "MAX_MOMENT_WIND      3.300000\n",
      "MAX_MIN              2.100000\n",
      "MEAN_WIND            1.100000\n",
      "M_WIND_100         923.000000\n",
      "MEAN_DEW            17.500000\n",
      "L_REHU              26.000000\n",
      "MEAN_MOIS           21.490324\n",
      "MEAN_STPR           12.971768\n",
      "MEAN_hPa            14.900000\n",
      "U_hPa               12.728525\n",
      "L_hPa               12.000000\n",
      "MEAN_PRES           12.200000\n",
      "MEAN_SUN             3.145956\n",
      "SUM_SUN              6.300000\n",
      "MEAN_LAND           18.100000\n",
      "L_TEMP.1            18.100000\n",
      "ITEM_SS              7.500000\n",
      "ITEM_TP              0.063000\n",
      "dtype: float64\n"
     ]
    }
   ],
   "source": [
    "river = df\n",
    "\n",
    "# 결측치 제거\n",
    "river = river.dropna(axis=0)\n",
    "np.shape(river)\n",
    "\n",
    "Q1 = river.quantile(0.25)\n",
    "Q3 = river.quantile(0.75)\n",
    "IQR = Q3 - Q1\n",
    "print(IQR)\n",
    "\n",
    "river_out = river[~((river.iloc[:,1:] < (Q1 - 1.5 * IQR)) |(river.iloc[:,1:] > (Q3 + 1.5 * IQR))).any(axis=1)]\n",
    "river_out.shape\n",
    "\n",
    "temp = river_out"
   ]
  },
  {
   "cell_type": "code",
   "execution_count": 5,
   "metadata": {},
   "outputs": [
    {
     "data": {
      "text/html": [
       "<div>\n",
       "<style scoped>\n",
       "    .dataframe tbody tr th:only-of-type {\n",
       "        vertical-align: middle;\n",
       "    }\n",
       "\n",
       "    .dataframe tbody tr th {\n",
       "        vertical-align: top;\n",
       "    }\n",
       "\n",
       "    .dataframe thead th {\n",
       "        text-align: right;\n",
       "    }\n",
       "</style>\n",
       "<table border=\"1\" class=\"dataframe\">\n",
       "  <thead>\n",
       "    <tr style=\"text-align: right;\">\n",
       "      <th></th>\n",
       "      <th>ITEM_TEMP</th>\n",
       "      <th>ITEM_PH</th>\n",
       "      <th>ITEM_DOC</th>\n",
       "      <th>ITEM_BOD</th>\n",
       "      <th>ITEM_COD</th>\n",
       "      <th>ITEM_TN</th>\n",
       "      <th>MEAN_TEMP</th>\n",
       "      <th>L_TEMP</th>\n",
       "      <th>U_TEMP</th>\n",
       "      <th>MAX_MOMENT_WIND</th>\n",
       "      <th>...</th>\n",
       "      <th>U_hPa</th>\n",
       "      <th>L_hPa</th>\n",
       "      <th>MEAN_PRES</th>\n",
       "      <th>MEAN_SUN</th>\n",
       "      <th>SUM_SUN</th>\n",
       "      <th>MEAN_LAND</th>\n",
       "      <th>L_TEMP.1</th>\n",
       "      <th>ITEM_SS</th>\n",
       "      <th>ITEM_TP</th>\n",
       "      <th>key</th>\n",
       "    </tr>\n",
       "  </thead>\n",
       "  <tbody>\n",
       "    <tr>\n",
       "      <th>0</th>\n",
       "      <td>36.0</td>\n",
       "      <td>6.5</td>\n",
       "      <td>5.4</td>\n",
       "      <td>1.3</td>\n",
       "      <td>6.2</td>\n",
       "      <td>0.893</td>\n",
       "      <td>31.3</td>\n",
       "      <td>26.6</td>\n",
       "      <td>37.9</td>\n",
       "      <td>6.0</td>\n",
       "      <td>...</td>\n",
       "      <td>1006.4</td>\n",
       "      <td>1003.9</td>\n",
       "      <td>1005.3</td>\n",
       "      <td>13.9</td>\n",
       "      <td>12.1</td>\n",
       "      <td>40.6</td>\n",
       "      <td>24.7</td>\n",
       "      <td>10.2</td>\n",
       "      <td>0.025</td>\n",
       "      <td>2018.08.02부안</td>\n",
       "    </tr>\n",
       "    <tr>\n",
       "      <th>2</th>\n",
       "      <td>35.8</td>\n",
       "      <td>8.5</td>\n",
       "      <td>10.2</td>\n",
       "      <td>3.0</td>\n",
       "      <td>9.0</td>\n",
       "      <td>0.629</td>\n",
       "      <td>32.0</td>\n",
       "      <td>26.3</td>\n",
       "      <td>37.8</td>\n",
       "      <td>6.1</td>\n",
       "      <td>...</td>\n",
       "      <td>1008.9</td>\n",
       "      <td>1004.8</td>\n",
       "      <td>1006.9</td>\n",
       "      <td>14.2</td>\n",
       "      <td>12.6</td>\n",
       "      <td>40.8</td>\n",
       "      <td>25.2</td>\n",
       "      <td>6.4</td>\n",
       "      <td>0.031</td>\n",
       "      <td>2018.07.24안동</td>\n",
       "    </tr>\n",
       "    <tr>\n",
       "      <th>6</th>\n",
       "      <td>35.5</td>\n",
       "      <td>8.7</td>\n",
       "      <td>9.2</td>\n",
       "      <td>3.2</td>\n",
       "      <td>9.8</td>\n",
       "      <td>2.618</td>\n",
       "      <td>32.3</td>\n",
       "      <td>27.2</td>\n",
       "      <td>37.1</td>\n",
       "      <td>5.9</td>\n",
       "      <td>...</td>\n",
       "      <td>1008.1</td>\n",
       "      <td>1004.5</td>\n",
       "      <td>1006.6</td>\n",
       "      <td>14.2</td>\n",
       "      <td>8.6</td>\n",
       "      <td>39.4</td>\n",
       "      <td>26.0</td>\n",
       "      <td>8.2</td>\n",
       "      <td>0.046</td>\n",
       "      <td>2018.07.25대구</td>\n",
       "    </tr>\n",
       "    <tr>\n",
       "      <th>7</th>\n",
       "      <td>35.5</td>\n",
       "      <td>8.9</td>\n",
       "      <td>10.7</td>\n",
       "      <td>3.3</td>\n",
       "      <td>7.6</td>\n",
       "      <td>0.382</td>\n",
       "      <td>28.5</td>\n",
       "      <td>21.6</td>\n",
       "      <td>38.2</td>\n",
       "      <td>6.1</td>\n",
       "      <td>...</td>\n",
       "      <td>1011.3</td>\n",
       "      <td>1007.8</td>\n",
       "      <td>1009.7</td>\n",
       "      <td>13.7</td>\n",
       "      <td>10.7</td>\n",
       "      <td>35.8</td>\n",
       "      <td>20.8</td>\n",
       "      <td>9.4</td>\n",
       "      <td>0.023</td>\n",
       "      <td>2016.08.10경주시</td>\n",
       "    </tr>\n",
       "    <tr>\n",
       "      <th>10</th>\n",
       "      <td>35.5</td>\n",
       "      <td>9.1</td>\n",
       "      <td>13.7</td>\n",
       "      <td>2.1</td>\n",
       "      <td>5.0</td>\n",
       "      <td>2.621</td>\n",
       "      <td>28.7</td>\n",
       "      <td>24.8</td>\n",
       "      <td>34.0</td>\n",
       "      <td>6.8</td>\n",
       "      <td>...</td>\n",
       "      <td>1012.7</td>\n",
       "      <td>1009.3</td>\n",
       "      <td>1011.2</td>\n",
       "      <td>13.9</td>\n",
       "      <td>0.8</td>\n",
       "      <td>33.2</td>\n",
       "      <td>23.1</td>\n",
       "      <td>4.3</td>\n",
       "      <td>0.169</td>\n",
       "      <td>2015.08.03김해시</td>\n",
       "    </tr>\n",
       "  </tbody>\n",
       "</table>\n",
       "<p>5 rows × 28 columns</p>\n",
       "</div>"
      ],
      "text/plain": [
       "    ITEM_TEMP  ITEM_PH  ITEM_DOC  ITEM_BOD  ITEM_COD  ITEM_TN  MEAN_TEMP  \\\n",
       "0        36.0      6.5       5.4       1.3       6.2    0.893       31.3   \n",
       "2        35.8      8.5      10.2       3.0       9.0    0.629       32.0   \n",
       "6        35.5      8.7       9.2       3.2       9.8    2.618       32.3   \n",
       "7        35.5      8.9      10.7       3.3       7.6    0.382       28.5   \n",
       "10       35.5      9.1      13.7       2.1       5.0    2.621       28.7   \n",
       "\n",
       "    L_TEMP  U_TEMP  MAX_MOMENT_WIND  ...   U_hPa   L_hPa  MEAN_PRES  MEAN_SUN  \\\n",
       "0     26.6    37.9              6.0  ...  1006.4  1003.9     1005.3      13.9   \n",
       "2     26.3    37.8              6.1  ...  1008.9  1004.8     1006.9      14.2   \n",
       "6     27.2    37.1              5.9  ...  1008.1  1004.5     1006.6      14.2   \n",
       "7     21.6    38.2              6.1  ...  1011.3  1007.8     1009.7      13.7   \n",
       "10    24.8    34.0              6.8  ...  1012.7  1009.3     1011.2      13.9   \n",
       "\n",
       "    SUM_SUN  MEAN_LAND  L_TEMP.1  ITEM_SS  ITEM_TP            key  \n",
       "0      12.1       40.6      24.7     10.2    0.025   2018.08.02부안  \n",
       "2      12.6       40.8      25.2      6.4    0.031   2018.07.24안동  \n",
       "6       8.6       39.4      26.0      8.2    0.046   2018.07.25대구  \n",
       "7      10.7       35.8      20.8      9.4    0.023  2016.08.10경주시  \n",
       "10      0.8       33.2      23.1      4.3    0.169  2015.08.03김해시  \n",
       "\n",
       "[5 rows x 28 columns]"
      ]
     },
     "execution_count": 5,
     "metadata": {},
     "output_type": "execute_result"
    }
   ],
   "source": [
    "temp.head()"
   ]
  },
  {
   "cell_type": "code",
   "execution_count": 7,
   "metadata": {},
   "outputs": [],
   "source": [
    "temp.to_csv(\"이근영씨는 받으라.csv\")"
   ]
  },
  {
   "cell_type": "markdown",
   "metadata": {},
   "source": [
    "# 변수 스케일링"
   ]
  },
  {
   "cell_type": "code",
   "execution_count": 356,
   "metadata": {},
   "outputs": [],
   "source": [
    "time = temp[['key']]\n",
    "not_time = temp[['ITEM_TEMP', 'ITEM_PH', 'ITEM_DOC', 'ITEM_BOD', 'ITEM_COD', 'ITEM_TN',\n",
    " 'MEAN_TEMP', 'L_TEMP', 'U_TEMP', 'MAX_MOMENT_WIND', 'MAX_MIN', 'MEAN_WIND', 'M_WIND_100',\n",
    " 'MEAN_DEW', 'L_REHU', 'MEAN_MOIS', 'MEAN_STPR', 'MEAN_hPa', 'U_hPa', 'L_hPa', 'MEAN_PRES',\n",
    " 'MEAN_SUN', 'SUM_SUN', 'MEAN_LAND', 'L_TEMP.1', 'ITEM_SS','ITEM_TP' ]]"
   ]
  },
  {
   "cell_type": "code",
   "execution_count": 357,
   "metadata": {},
   "outputs": [
    {
     "data": {
      "text/html": [
       "<div>\n",
       "<style scoped>\n",
       "    .dataframe tbody tr th:only-of-type {\n",
       "        vertical-align: middle;\n",
       "    }\n",
       "\n",
       "    .dataframe tbody tr th {\n",
       "        vertical-align: top;\n",
       "    }\n",
       "\n",
       "    .dataframe thead th {\n",
       "        text-align: right;\n",
       "    }\n",
       "</style>\n",
       "<table border=\"1\" class=\"dataframe\">\n",
       "  <thead>\n",
       "    <tr style=\"text-align: right;\">\n",
       "      <th></th>\n",
       "      <th>ITEM_TEMP</th>\n",
       "      <th>ITEM_PH</th>\n",
       "      <th>ITEM_DOC</th>\n",
       "      <th>ITEM_BOD</th>\n",
       "      <th>ITEM_COD</th>\n",
       "      <th>ITEM_TN</th>\n",
       "      <th>MEAN_TEMP</th>\n",
       "      <th>L_TEMP</th>\n",
       "      <th>U_TEMP</th>\n",
       "      <th>MAX_MOMENT_WIND</th>\n",
       "      <th>...</th>\n",
       "      <th>MEAN_hPa</th>\n",
       "      <th>U_hPa</th>\n",
       "      <th>L_hPa</th>\n",
       "      <th>MEAN_PRES</th>\n",
       "      <th>MEAN_SUN</th>\n",
       "      <th>SUM_SUN</th>\n",
       "      <th>MEAN_LAND</th>\n",
       "      <th>L_TEMP.1</th>\n",
       "      <th>ITEM_SS</th>\n",
       "      <th>ITEM_TP</th>\n",
       "    </tr>\n",
       "  </thead>\n",
       "  <tbody>\n",
       "    <tr>\n",
       "      <th>0</th>\n",
       "      <td>38.1</td>\n",
       "      <td>7.9</td>\n",
       "      <td>6.6</td>\n",
       "      <td>0.8</td>\n",
       "      <td>3.9</td>\n",
       "      <td>0.945</td>\n",
       "      <td>28.7</td>\n",
       "      <td>25.9</td>\n",
       "      <td>35.1</td>\n",
       "      <td>7.6</td>\n",
       "      <td>...</td>\n",
       "      <td>989.1</td>\n",
       "      <td>1000.0</td>\n",
       "      <td>996.5</td>\n",
       "      <td>998.2</td>\n",
       "      <td>13.8</td>\n",
       "      <td>11.0</td>\n",
       "      <td>33.1</td>\n",
       "      <td>24.2</td>\n",
       "      <td>1.4</td>\n",
       "      <td>0.130</td>\n",
       "    </tr>\n",
       "    <tr>\n",
       "      <th>1</th>\n",
       "      <td>37.6</td>\n",
       "      <td>8.0</td>\n",
       "      <td>8.4</td>\n",
       "      <td>0.4</td>\n",
       "      <td>7.9</td>\n",
       "      <td>5.381</td>\n",
       "      <td>30.6</td>\n",
       "      <td>26.3</td>\n",
       "      <td>36.2</td>\n",
       "      <td>9.6</td>\n",
       "      <td>...</td>\n",
       "      <td>1005.6</td>\n",
       "      <td>1011.1</td>\n",
       "      <td>1007.5</td>\n",
       "      <td>1009.5</td>\n",
       "      <td>13.9</td>\n",
       "      <td>12.3</td>\n",
       "      <td>36.8</td>\n",
       "      <td>23.1</td>\n",
       "      <td>9.0</td>\n",
       "      <td>0.092</td>\n",
       "    </tr>\n",
       "    <tr>\n",
       "      <th>3</th>\n",
       "      <td>36.7</td>\n",
       "      <td>7.5</td>\n",
       "      <td>6.8</td>\n",
       "      <td>0.3</td>\n",
       "      <td>3.6</td>\n",
       "      <td>0.940</td>\n",
       "      <td>28.6</td>\n",
       "      <td>23.6</td>\n",
       "      <td>33.8</td>\n",
       "      <td>6.2</td>\n",
       "      <td>...</td>\n",
       "      <td>995.1</td>\n",
       "      <td>1006.2</td>\n",
       "      <td>1002.9</td>\n",
       "      <td>1004.4</td>\n",
       "      <td>13.9</td>\n",
       "      <td>12.9</td>\n",
       "      <td>35.2</td>\n",
       "      <td>21.4</td>\n",
       "      <td>1.6</td>\n",
       "      <td>0.121</td>\n",
       "    </tr>\n",
       "    <tr>\n",
       "      <th>6</th>\n",
       "      <td>36.2</td>\n",
       "      <td>7.7</td>\n",
       "      <td>9.0</td>\n",
       "      <td>0.7</td>\n",
       "      <td>3.0</td>\n",
       "      <td>1.374</td>\n",
       "      <td>26.3</td>\n",
       "      <td>20.6</td>\n",
       "      <td>33.0</td>\n",
       "      <td>8.7</td>\n",
       "      <td>...</td>\n",
       "      <td>991.4</td>\n",
       "      <td>1009.5</td>\n",
       "      <td>1004.6</td>\n",
       "      <td>1007.1</td>\n",
       "      <td>14.5</td>\n",
       "      <td>12.5</td>\n",
       "      <td>32.8</td>\n",
       "      <td>18.9</td>\n",
       "      <td>4.0</td>\n",
       "      <td>0.018</td>\n",
       "    </tr>\n",
       "    <tr>\n",
       "      <th>7</th>\n",
       "      <td>36.0</td>\n",
       "      <td>8.7</td>\n",
       "      <td>9.0</td>\n",
       "      <td>2.5</td>\n",
       "      <td>9.7</td>\n",
       "      <td>1.687</td>\n",
       "      <td>31.2</td>\n",
       "      <td>23.8</td>\n",
       "      <td>37.9</td>\n",
       "      <td>4.9</td>\n",
       "      <td>...</td>\n",
       "      <td>1000.7</td>\n",
       "      <td>1007.5</td>\n",
       "      <td>1004.1</td>\n",
       "      <td>1006.1</td>\n",
       "      <td>14.0</td>\n",
       "      <td>10.8</td>\n",
       "      <td>39.2</td>\n",
       "      <td>21.5</td>\n",
       "      <td>5.0</td>\n",
       "      <td>0.025</td>\n",
       "    </tr>\n",
       "  </tbody>\n",
       "</table>\n",
       "<p>5 rows × 27 columns</p>\n",
       "</div>"
      ],
      "text/plain": [
       "   ITEM_TEMP  ITEM_PH  ITEM_DOC  ITEM_BOD  ITEM_COD  ITEM_TN  MEAN_TEMP  \\\n",
       "0       38.1      7.9       6.6       0.8       3.9    0.945       28.7   \n",
       "1       37.6      8.0       8.4       0.4       7.9    5.381       30.6   \n",
       "3       36.7      7.5       6.8       0.3       3.6    0.940       28.6   \n",
       "6       36.2      7.7       9.0       0.7       3.0    1.374       26.3   \n",
       "7       36.0      8.7       9.0       2.5       9.7    1.687       31.2   \n",
       "\n",
       "   L_TEMP  U_TEMP  MAX_MOMENT_WIND  ...  MEAN_hPa   U_hPa   L_hPa  MEAN_PRES  \\\n",
       "0    25.9    35.1              7.6  ...     989.1  1000.0   996.5      998.2   \n",
       "1    26.3    36.2              9.6  ...    1005.6  1011.1  1007.5     1009.5   \n",
       "3    23.6    33.8              6.2  ...     995.1  1006.2  1002.9     1004.4   \n",
       "6    20.6    33.0              8.7  ...     991.4  1009.5  1004.6     1007.1   \n",
       "7    23.8    37.9              4.9  ...    1000.7  1007.5  1004.1     1006.1   \n",
       "\n",
       "   MEAN_SUN  SUM_SUN  MEAN_LAND  L_TEMP.1  ITEM_SS  ITEM_TP  \n",
       "0      13.8     11.0       33.1      24.2      1.4    0.130  \n",
       "1      13.9     12.3       36.8      23.1      9.0    0.092  \n",
       "3      13.9     12.9       35.2      21.4      1.6    0.121  \n",
       "6      14.5     12.5       32.8      18.9      4.0    0.018  \n",
       "7      14.0     10.8       39.2      21.5      5.0    0.025  \n",
       "\n",
       "[5 rows x 27 columns]"
      ]
     },
     "execution_count": 357,
     "metadata": {},
     "output_type": "execute_result"
    }
   ],
   "source": [
    "not_time.head()"
   ]
  },
  {
   "cell_type": "code",
   "execution_count": 358,
   "metadata": {},
   "outputs": [],
   "source": [
    "min_max_scaler = MinMaxScaler()\n",
    "not_time = min_max_scaler.fit_transform(not_time)\n",
    "not_time = pd.DataFrame(not_time, index = not_time[:,0])"
   ]
  },
  {
   "cell_type": "code",
   "execution_count": 359,
   "metadata": {},
   "outputs": [],
   "source": [
    "not_time.columns = ['ITEM_TEMP', 'ITEM_PH', 'ITEM_DOC', 'ITEM_BOD', 'ITEM_COD', 'ITEM_TN',\n",
    " 'MEAN_TEMP', 'L_TEMP', 'U_TEMP', 'MAX_MOMENT_WIND', 'MAX_MIN', 'MEAN_WIND', 'M_WIND_100',\n",
    " 'MEAN_DEW', 'L_REHU', 'MEAN_MOIS', 'MEAN_STPR', 'MEAN_hPa', 'U_hPa', 'L_hPa', 'MEAN_PRES',\n",
    " 'MEAN_SUN', 'SUM_SUN', 'MEAN_LAND', 'L_TEMP.1', 'ITEM_SS','ITEM_TP']\n",
    "not_time = not_time[['ITEM_TEMP', 'ITEM_PH', 'ITEM_DOC', 'ITEM_BOD', 'ITEM_COD', 'ITEM_TN',\n",
    " 'MEAN_TEMP', 'L_TEMP', 'U_TEMP', 'MAX_MOMENT_WIND', 'MAX_MIN', 'MEAN_WIND', 'M_WIND_100',\n",
    " 'MEAN_DEW', 'L_REHU', 'MEAN_MOIS', 'MEAN_STPR', 'MEAN_hPa', 'U_hPa', 'L_hPa', 'MEAN_PRES',\n",
    " 'MEAN_SUN', 'SUM_SUN', 'MEAN_LAND', 'L_TEMP.1', 'ITEM_SS','ITEM_TP']]\n",
    "\n",
    "not_time.reset_index(drop=True, inplace=True)\n",
    "time.reset_index(drop=True, inplace=True)"
   ]
  },
  {
   "cell_type": "code",
   "execution_count": 360,
   "metadata": {},
   "outputs": [],
   "source": [
    "temp = pd.concat([time, not_time], axis = 1)"
   ]
  },
  {
   "cell_type": "code",
   "execution_count": 361,
   "metadata": {},
   "outputs": [],
   "source": [
    "#temp.to_csv('raw_river.csv')"
   ]
  },
  {
   "cell_type": "markdown",
   "metadata": {},
   "source": [
    "# ITEM_TEMP와의 상관분석"
   ]
  },
  {
   "cell_type": "code",
   "execution_count": 362,
   "metadata": {},
   "outputs": [],
   "source": [
    "df = temp"
   ]
  },
  {
   "cell_type": "code",
   "execution_count": 363,
   "metadata": {},
   "outputs": [],
   "source": [
    "df_corr = df.corr()\n",
    "df_corr = df_corr[\"ITEM_TEMP\"]"
   ]
  },
  {
   "cell_type": "code",
   "execution_count": 364,
   "metadata": {
    "scrolled": true
   },
   "outputs": [
    {
     "data": {
      "text/html": [
       "<div>\n",
       "<style scoped>\n",
       "    .dataframe tbody tr th:only-of-type {\n",
       "        vertical-align: middle;\n",
       "    }\n",
       "\n",
       "    .dataframe tbody tr th {\n",
       "        vertical-align: top;\n",
       "    }\n",
       "\n",
       "    .dataframe thead th {\n",
       "        text-align: right;\n",
       "    }\n",
       "</style>\n",
       "<table border=\"1\" class=\"dataframe\">\n",
       "  <thead>\n",
       "    <tr style=\"text-align: right;\">\n",
       "      <th></th>\n",
       "      <th>ITEM_TEMP</th>\n",
       "    </tr>\n",
       "  </thead>\n",
       "  <tbody>\n",
       "    <tr>\n",
       "      <th>ITEM_TEMP</th>\n",
       "      <td>1.000000</td>\n",
       "    </tr>\n",
       "    <tr>\n",
       "      <th>ITEM_PH</th>\n",
       "      <td>0.107929</td>\n",
       "    </tr>\n",
       "    <tr>\n",
       "      <th>ITEM_DOC</th>\n",
       "      <td>-0.611489</td>\n",
       "    </tr>\n",
       "    <tr>\n",
       "      <th>ITEM_BOD</th>\n",
       "      <td>0.137814</td>\n",
       "    </tr>\n",
       "    <tr>\n",
       "      <th>ITEM_COD</th>\n",
       "      <td>0.303987</td>\n",
       "    </tr>\n",
       "    <tr>\n",
       "      <th>ITEM_TN</th>\n",
       "      <td>-0.194917</td>\n",
       "    </tr>\n",
       "    <tr>\n",
       "      <th>MEAN_TEMP</th>\n",
       "      <td>0.895808</td>\n",
       "    </tr>\n",
       "    <tr>\n",
       "      <th>L_TEMP</th>\n",
       "      <td>0.879215</td>\n",
       "    </tr>\n",
       "    <tr>\n",
       "      <th>U_TEMP</th>\n",
       "      <td>0.875264</td>\n",
       "    </tr>\n",
       "    <tr>\n",
       "      <th>MAX_MOMENT_WIND</th>\n",
       "      <td>-0.113661</td>\n",
       "    </tr>\n",
       "    <tr>\n",
       "      <th>MAX_MIN</th>\n",
       "      <td>-0.105055</td>\n",
       "    </tr>\n",
       "    <tr>\n",
       "      <th>MEAN_WIND</th>\n",
       "      <td>-0.066238</td>\n",
       "    </tr>\n",
       "    <tr>\n",
       "      <th>M_WIND_100</th>\n",
       "      <td>-0.066275</td>\n",
       "    </tr>\n",
       "    <tr>\n",
       "      <th>MEAN_DEW</th>\n",
       "      <td>0.851998</td>\n",
       "    </tr>\n",
       "    <tr>\n",
       "      <th>L_REHU</th>\n",
       "      <td>0.300310</td>\n",
       "    </tr>\n",
       "    <tr>\n",
       "      <th>MEAN_MOIS</th>\n",
       "      <td>0.324848</td>\n",
       "    </tr>\n",
       "    <tr>\n",
       "      <th>MEAN_STPR</th>\n",
       "      <td>0.819160</td>\n",
       "    </tr>\n",
       "    <tr>\n",
       "      <th>MEAN_hPa</th>\n",
       "      <td>-0.415412</td>\n",
       "    </tr>\n",
       "    <tr>\n",
       "      <th>U_hPa</th>\n",
       "      <td>-0.741834</td>\n",
       "    </tr>\n",
       "    <tr>\n",
       "      <th>L_hPa</th>\n",
       "      <td>-0.664747</td>\n",
       "    </tr>\n",
       "    <tr>\n",
       "      <th>MEAN_PRES</th>\n",
       "      <td>-0.705297</td>\n",
       "    </tr>\n",
       "    <tr>\n",
       "      <th>MEAN_SUN</th>\n",
       "      <td>0.720130</td>\n",
       "    </tr>\n",
       "    <tr>\n",
       "      <th>SUM_SUN</th>\n",
       "      <td>0.068921</td>\n",
       "    </tr>\n",
       "    <tr>\n",
       "      <th>MEAN_LAND</th>\n",
       "      <td>0.897579</td>\n",
       "    </tr>\n",
       "    <tr>\n",
       "      <th>L_TEMP.1</th>\n",
       "      <td>0.866366</td>\n",
       "    </tr>\n",
       "    <tr>\n",
       "      <th>ITEM_SS</th>\n",
       "      <td>0.283941</td>\n",
       "    </tr>\n",
       "    <tr>\n",
       "      <th>ITEM_TP</th>\n",
       "      <td>0.244405</td>\n",
       "    </tr>\n",
       "  </tbody>\n",
       "</table>\n",
       "</div>"
      ],
      "text/plain": [
       "                 ITEM_TEMP\n",
       "ITEM_TEMP         1.000000\n",
       "ITEM_PH           0.107929\n",
       "ITEM_DOC         -0.611489\n",
       "ITEM_BOD          0.137814\n",
       "ITEM_COD          0.303987\n",
       "ITEM_TN          -0.194917\n",
       "MEAN_TEMP         0.895808\n",
       "L_TEMP            0.879215\n",
       "U_TEMP            0.875264\n",
       "MAX_MOMENT_WIND  -0.113661\n",
       "MAX_MIN          -0.105055\n",
       "MEAN_WIND        -0.066238\n",
       "M_WIND_100       -0.066275\n",
       "MEAN_DEW          0.851998\n",
       "L_REHU            0.300310\n",
       "MEAN_MOIS         0.324848\n",
       "MEAN_STPR         0.819160\n",
       "MEAN_hPa         -0.415412\n",
       "U_hPa            -0.741834\n",
       "L_hPa            -0.664747\n",
       "MEAN_PRES        -0.705297\n",
       "MEAN_SUN          0.720130\n",
       "SUM_SUN           0.068921\n",
       "MEAN_LAND         0.897579\n",
       "L_TEMP.1          0.866366\n",
       "ITEM_SS           0.283941\n",
       "ITEM_TP           0.244405"
      ]
     },
     "execution_count": 364,
     "metadata": {},
     "output_type": "execute_result"
    }
   ],
   "source": [
    "df_corr = pd.DataFrame(df_corr)\n",
    "df_corr"
   ]
  },
  {
   "cell_type": "code",
   "execution_count": 365,
   "metadata": {},
   "outputs": [],
   "source": [
    "df_corr = df_corr[abs(df_corr['ITEM_TEMP']) > 0.1]"
   ]
  },
  {
   "cell_type": "code",
   "execution_count": 366,
   "metadata": {},
   "outputs": [],
   "source": [
    "df_corr_name = list(df_corr.T)"
   ]
  },
  {
   "cell_type": "code",
   "execution_count": 367,
   "metadata": {},
   "outputs": [],
   "source": [
    "df_corr_name = pd.DataFrame(df_corr_name)\n",
    "df_corr_name = df_corr_name.T"
   ]
  },
  {
   "cell_type": "code",
   "execution_count": 368,
   "metadata": {},
   "outputs": [
    {
     "data": {
      "text/html": [
       "<div>\n",
       "<style scoped>\n",
       "    .dataframe tbody tr th:only-of-type {\n",
       "        vertical-align: middle;\n",
       "    }\n",
       "\n",
       "    .dataframe tbody tr th {\n",
       "        vertical-align: top;\n",
       "    }\n",
       "\n",
       "    .dataframe thead th {\n",
       "        text-align: right;\n",
       "    }\n",
       "</style>\n",
       "<table border=\"1\" class=\"dataframe\">\n",
       "  <thead>\n",
       "    <tr style=\"text-align: right;\">\n",
       "      <th></th>\n",
       "      <th>ITEM_TEMP</th>\n",
       "      <th>ITEM_PH</th>\n",
       "      <th>ITEM_DOC</th>\n",
       "      <th>ITEM_BOD</th>\n",
       "      <th>ITEM_COD</th>\n",
       "      <th>ITEM_TN</th>\n",
       "      <th>MEAN_TEMP</th>\n",
       "      <th>L_TEMP</th>\n",
       "      <th>U_TEMP</th>\n",
       "      <th>MAX_MOMENT_WIND</th>\n",
       "      <th>...</th>\n",
       "      <th>MEAN_STPR</th>\n",
       "      <th>MEAN_hPa</th>\n",
       "      <th>U_hPa</th>\n",
       "      <th>L_hPa</th>\n",
       "      <th>MEAN_PRES</th>\n",
       "      <th>MEAN_SUN</th>\n",
       "      <th>MEAN_LAND</th>\n",
       "      <th>L_TEMP.1</th>\n",
       "      <th>ITEM_SS</th>\n",
       "      <th>ITEM_TP</th>\n",
       "    </tr>\n",
       "  </thead>\n",
       "  <tbody>\n",
       "    <tr>\n",
       "      <th>0</th>\n",
       "      <td>1.000000</td>\n",
       "      <td>0.555556</td>\n",
       "      <td>0.251701</td>\n",
       "      <td>0.362554</td>\n",
       "      <td>0.317073</td>\n",
       "      <td>0.146637</td>\n",
       "      <td>0.760311</td>\n",
       "      <td>0.824421</td>\n",
       "      <td>0.763946</td>\n",
       "      <td>0.525100</td>\n",
       "      <td>...</td>\n",
       "      <td>0.859066</td>\n",
       "      <td>0.203425</td>\n",
       "      <td>0.091216</td>\n",
       "      <td>0.146404</td>\n",
       "      <td>0.118756</td>\n",
       "      <td>0.665717</td>\n",
       "      <td>0.777087</td>\n",
       "      <td>0.844785</td>\n",
       "      <td>0.067633</td>\n",
       "      <td>0.751445</td>\n",
       "    </tr>\n",
       "    <tr>\n",
       "      <th>1</th>\n",
       "      <td>0.987179</td>\n",
       "      <td>0.592593</td>\n",
       "      <td>0.374150</td>\n",
       "      <td>0.307302</td>\n",
       "      <td>0.642276</td>\n",
       "      <td>0.845330</td>\n",
       "      <td>0.794463</td>\n",
       "      <td>0.831437</td>\n",
       "      <td>0.782916</td>\n",
       "      <td>0.677069</td>\n",
       "      <td>...</td>\n",
       "      <td>0.786586</td>\n",
       "      <td>0.480622</td>\n",
       "      <td>0.325166</td>\n",
       "      <td>0.376469</td>\n",
       "      <td>0.358388</td>\n",
       "      <td>0.674731</td>\n",
       "      <td>0.841562</td>\n",
       "      <td>0.827251</td>\n",
       "      <td>0.434783</td>\n",
       "      <td>0.531792</td>\n",
       "    </tr>\n",
       "    <tr>\n",
       "      <th>2</th>\n",
       "      <td>0.964103</td>\n",
       "      <td>0.407407</td>\n",
       "      <td>0.265306</td>\n",
       "      <td>0.293488</td>\n",
       "      <td>0.292683</td>\n",
       "      <td>0.145850</td>\n",
       "      <td>0.758514</td>\n",
       "      <td>0.784077</td>\n",
       "      <td>0.741528</td>\n",
       "      <td>0.418721</td>\n",
       "      <td>...</td>\n",
       "      <td>0.792626</td>\n",
       "      <td>0.304224</td>\n",
       "      <td>0.221891</td>\n",
       "      <td>0.280260</td>\n",
       "      <td>0.250236</td>\n",
       "      <td>0.674731</td>\n",
       "      <td>0.813681</td>\n",
       "      <td>0.800154</td>\n",
       "      <td>0.077295</td>\n",
       "      <td>0.699422</td>\n",
       "    </tr>\n",
       "    <tr>\n",
       "      <th>3</th>\n",
       "      <td>0.951282</td>\n",
       "      <td>0.481481</td>\n",
       "      <td>0.414966</td>\n",
       "      <td>0.348741</td>\n",
       "      <td>0.243902</td>\n",
       "      <td>0.214207</td>\n",
       "      <td>0.717173</td>\n",
       "      <td>0.731454</td>\n",
       "      <td>0.727732</td>\n",
       "      <td>0.608683</td>\n",
       "      <td>...</td>\n",
       "      <td>0.617465</td>\n",
       "      <td>0.242065</td>\n",
       "      <td>0.291444</td>\n",
       "      <td>0.315815</td>\n",
       "      <td>0.307493</td>\n",
       "      <td>0.728814</td>\n",
       "      <td>0.771859</td>\n",
       "      <td>0.760306</td>\n",
       "      <td>0.193237</td>\n",
       "      <td>0.104046</td>\n",
       "    </tr>\n",
       "    <tr>\n",
       "      <th>4</th>\n",
       "      <td>0.946154</td>\n",
       "      <td>0.851852</td>\n",
       "      <td>0.414966</td>\n",
       "      <td>0.597377</td>\n",
       "      <td>0.788618</td>\n",
       "      <td>0.263506</td>\n",
       "      <td>0.805247</td>\n",
       "      <td>0.787585</td>\n",
       "      <td>0.812232</td>\n",
       "      <td>0.319941</td>\n",
       "      <td>...</td>\n",
       "      <td>0.806719</td>\n",
       "      <td>0.398303</td>\n",
       "      <td>0.249290</td>\n",
       "      <td>0.305358</td>\n",
       "      <td>0.286287</td>\n",
       "      <td>0.683745</td>\n",
       "      <td>0.883384</td>\n",
       "      <td>0.801748</td>\n",
       "      <td>0.241546</td>\n",
       "      <td>0.144509</td>\n",
       "    </tr>\n",
       "  </tbody>\n",
       "</table>\n",
       "<p>5 rows × 24 columns</p>\n",
       "</div>"
      ],
      "text/plain": [
       "   ITEM_TEMP   ITEM_PH  ITEM_DOC  ITEM_BOD  ITEM_COD   ITEM_TN  MEAN_TEMP  \\\n",
       "0   1.000000  0.555556  0.251701  0.362554  0.317073  0.146637   0.760311   \n",
       "1   0.987179  0.592593  0.374150  0.307302  0.642276  0.845330   0.794463   \n",
       "2   0.964103  0.407407  0.265306  0.293488  0.292683  0.145850   0.758514   \n",
       "3   0.951282  0.481481  0.414966  0.348741  0.243902  0.214207   0.717173   \n",
       "4   0.946154  0.851852  0.414966  0.597377  0.788618  0.263506   0.805247   \n",
       "\n",
       "     L_TEMP    U_TEMP  MAX_MOMENT_WIND  ...  MEAN_STPR  MEAN_hPa     U_hPa  \\\n",
       "0  0.824421  0.763946         0.525100  ...   0.859066  0.203425  0.091216   \n",
       "1  0.831437  0.782916         0.677069  ...   0.786586  0.480622  0.325166   \n",
       "2  0.784077  0.741528         0.418721  ...   0.792626  0.304224  0.221891   \n",
       "3  0.731454  0.727732         0.608683  ...   0.617465  0.242065  0.291444   \n",
       "4  0.787585  0.812232         0.319941  ...   0.806719  0.398303  0.249290   \n",
       "\n",
       "      L_hPa  MEAN_PRES  MEAN_SUN  MEAN_LAND  L_TEMP.1   ITEM_SS   ITEM_TP  \n",
       "0  0.146404   0.118756  0.665717   0.777087  0.844785  0.067633  0.751445  \n",
       "1  0.376469   0.358388  0.674731   0.841562  0.827251  0.434783  0.531792  \n",
       "2  0.280260   0.250236  0.674731   0.813681  0.800154  0.077295  0.699422  \n",
       "3  0.315815   0.307493  0.728814   0.771859  0.760306  0.193237  0.104046  \n",
       "4  0.305358   0.286287  0.683745   0.883384  0.801748  0.241546  0.144509  \n",
       "\n",
       "[5 rows x 24 columns]"
      ]
     },
     "execution_count": 368,
     "metadata": {},
     "output_type": "execute_result"
    }
   ],
   "source": [
    "df_corr = df[list(df_corr_name.iloc[0])]\n",
    "df_corr.head(5)"
   ]
  },
  {
   "cell_type": "markdown",
   "metadata": {},
   "source": [
    "# 상관분석 변수"
   ]
  },
  {
   "cell_type": "code",
   "execution_count": 369,
   "metadata": {},
   "outputs": [
    {
     "data": {
      "text/plain": [
       "['ITEM_TEMP',\n",
       " 'ITEM_PH',\n",
       " 'ITEM_DOC',\n",
       " 'ITEM_BOD',\n",
       " 'ITEM_COD',\n",
       " 'ITEM_TN',\n",
       " 'MEAN_TEMP',\n",
       " 'L_TEMP',\n",
       " 'U_TEMP',\n",
       " 'MAX_MOMENT_WIND',\n",
       " 'MAX_MIN',\n",
       " 'MEAN_DEW',\n",
       " 'L_REHU',\n",
       " 'MEAN_MOIS',\n",
       " 'MEAN_STPR',\n",
       " 'MEAN_hPa',\n",
       " 'U_hPa',\n",
       " 'L_hPa',\n",
       " 'MEAN_PRES',\n",
       " 'MEAN_SUN',\n",
       " 'MEAN_LAND',\n",
       " 'L_TEMP.1',\n",
       " 'ITEM_SS',\n",
       " 'ITEM_TP']"
      ]
     },
     "execution_count": 369,
     "metadata": {},
     "output_type": "execute_result"
    }
   ],
   "source": [
    "list(df_corr)"
   ]
  },
  {
   "cell_type": "code",
   "execution_count": 370,
   "metadata": {},
   "outputs": [],
   "source": [
    "keey = temp['key']\n",
    "\n",
    "keey.reset_index(drop=True, inplace=True)\n",
    "df_corr.reset_index(drop=True, inplace=True)\n",
    "\n",
    "temp = pd.concat([keey, df_corr], axis = 1)"
   ]
  },
  {
   "cell_type": "code",
   "execution_count": 371,
   "metadata": {},
   "outputs": [],
   "source": [
    "tem = temp[['key']]"
   ]
  },
  {
   "cell_type": "markdown",
   "metadata": {},
   "source": [
    "# 정규표현식(날짜 전처리)"
   ]
  },
  {
   "cell_type": "code",
   "execution_count": 372,
   "metadata": {},
   "outputs": [],
   "source": [
    "import re\n",
    "\n",
    "regex = r\"[가-힇]\"\n",
    "\n",
    "#test_str = \"2014.06.09서울\"\n",
    "\n",
    "subst = \"\"\n",
    "\n",
    "# You can manually specify the number of replacements by changing the 4th argument\n",
    "new_temp=[]\n",
    "#result = re.sub(regex, subst, test_str, 0, re.MULTILINE)\n",
    "\n",
    "for i in tem['key']:\n",
    "    new_temp.append(re.sub(regex, subst, i, 0, re.MULTILINE))\n",
    "\n",
    "    \n",
    "regex = r\"[.]\"\n",
    "\n",
    "#test_str = \"2014.06.09서울\"\n",
    "\n",
    "subst = \"-\"\n",
    "\n",
    "# You can manually specify the number of replacements by changing the 4th argument\n",
    "new_temp2=[]\n",
    "#result = re.sub(regex, subst, test_str, 0, re.MULTILINE)\n",
    "\n",
    "for i in new_temp:\n",
    "    new_temp2.append(re.sub(regex, subst, i, 0, re.MULTILINE))\n",
    "    \n",
    "regex = r\"[(]|[)]\"\n",
    "\n",
    "#test_str = \"2014.06.09서울\"\n",
    "\n",
    "subst = \"\"\n",
    "\n",
    "# You can manually specify the number of replacements by changing the 4th argument\n",
    "new_temp3=[]\n",
    "#result = re.sub(regex, subst, test_str, 0, re.MULTILINE)\n",
    "\n",
    "for i in new_temp2:\n",
    "    new_temp3.append(re.sub(regex, subst, i, 0, re.MULTILINE))\n"
   ]
  },
  {
   "cell_type": "code",
   "execution_count": 373,
   "metadata": {},
   "outputs": [],
   "source": [
    "temp['key'] = new_temp3"
   ]
  },
  {
   "cell_type": "code",
   "execution_count": 374,
   "metadata": {},
   "outputs": [],
   "source": [
    "key = list(temp['key'])\n",
    "\n",
    "#key_len = [i for i in key if len(i)==10]\n",
    "\n",
    "key_index = []\n",
    "for i in range(0,len(key)):\n",
    "    if len(key[i]) == 10 and key[i] != '2014-07-00':\n",
    "        key_index.append(i)\n",
    "#key_index"
   ]
  },
  {
   "cell_type": "code",
   "execution_count": 375,
   "metadata": {},
   "outputs": [],
   "source": [
    "temp = temp.iloc[key_index]\n",
    "#for i in range(0,len(temp['key'])):\n",
    " #   if len(temp['key'][i]) < 10:\n",
    " #       temp = temp.drop([i])"
   ]
  },
  {
   "cell_type": "code",
   "execution_count": 376,
   "metadata": {},
   "outputs": [],
   "source": [
    "import datetime"
   ]
  },
  {
   "cell_type": "code",
   "execution_count": 377,
   "metadata": {},
   "outputs": [],
   "source": [
    "temp = temp[temp['key'] != '15-Mar']\n",
    "temp = temp[temp['key'] != '16-Oct']\n",
    "temp = temp[temp['key'] != '16-Sep']\n",
    "temp = temp[temp['key'] != '16-Jul']\n",
    "temp = temp[temp['key'] != '16-May']\n",
    "temp = temp[temp['key'] != '16-Mar']\n",
    "temp = temp[temp['key'] != '15-Dec']\n",
    "temp = temp[temp['key'] != '15-Nov']\n",
    "temp = temp[temp['key'] != '15-Oct']\n",
    "temp = temp[temp['key'] != '15-Sep']\n",
    "temp = temp[temp['key'] != '15-Aug']\n",
    "temp = temp[temp['key'] != '15-Jul']\n",
    "temp = temp[temp['key'] != '15-May']\n",
    "temp = temp[temp['key'] != '15-Apr']\n",
    "temp = temp[temp['key'] != '15-Feb']\n",
    "temp = temp[temp['key'] != '15-Jan']\n",
    "temp = temp[temp['key'] != '16-Feb']\n",
    "temp = temp[temp['key'] != '16-Dec']"
   ]
  },
  {
   "cell_type": "code",
   "execution_count": 378,
   "metadata": {},
   "outputs": [],
   "source": [
    "temp['key'] = pd.to_datetime(temp['key'], format = '%Y-%m-%d')"
   ]
  },
  {
   "cell_type": "code",
   "execution_count": 379,
   "metadata": {},
   "outputs": [],
   "source": [
    "temp = temp.set_index('key')"
   ]
  },
  {
   "cell_type": "markdown",
   "metadata": {},
   "source": [
    "# Train test set 생성"
   ]
  },
  {
   "cell_type": "code",
   "execution_count": 380,
   "metadata": {},
   "outputs": [],
   "source": [
    "dataset = temp.sort_index()\n",
    "train_size = int(len(dataset) * 0.8)\n",
    "test_size = len(dataset) - train_size\n",
    "train = dataset.iloc[0:train_size,:]\n",
    "test = dataset.iloc[train_size:len(dataset),]"
   ]
  },
  {
   "cell_type": "code",
   "execution_count": 381,
   "metadata": {},
   "outputs": [],
   "source": [
    "y_train = train[['ITEM_TEMP']].sort_index()\n",
    "x_train = train[[ 'ITEM_DOC', 'ITEM_BOD', 'ITEM_COD', 'ITEM_TN', 'MEAN_TEMP', 'L_TEMP',\n",
    " 'U_TEMP', 'MAX_MOMENT_WIND', 'MEAN_DEW', 'L_REHU', 'MEAN_MOIS', 'MEAN_STPR', 'MEAN_hPa',\n",
    " 'U_hPa', 'L_hPa', 'MEAN_PRES', 'MEAN_SUN', 'MEAN_LAND', 'L_TEMP.1', 'ITEM_SS','ITEM_TP']].sort_index()\n",
    "\n",
    "y_test = test[['ITEM_TEMP']].sort_index()\n",
    "x_test = test[[ 'ITEM_DOC', 'ITEM_BOD', 'ITEM_COD', 'ITEM_TN', 'MEAN_TEMP', 'L_TEMP',\n",
    " 'U_TEMP', 'MAX_MOMENT_WIND', 'MEAN_DEW', 'L_REHU', 'MEAN_MOIS', 'MEAN_STPR', 'MEAN_hPa',\n",
    " 'U_hPa', 'L_hPa', 'MEAN_PRES', 'MEAN_SUN', 'MEAN_LAND', 'L_TEMP.1', 'ITEM_SS','ITEM_TP']].sort_index()"
   ]
  },
  {
   "cell_type": "markdown",
   "metadata": {},
   "source": [
    "# ndarray로 변환하기"
   ]
  },
  {
   "cell_type": "code",
   "execution_count": 382,
   "metadata": {},
   "outputs": [],
   "source": [
    "x_train = x_train.values\n",
    "x_test = x_test.values\n",
    "\n",
    "y_train = y_train.values\n",
    "y_test = y_test.values"
   ]
  },
  {
   "cell_type": "code",
   "execution_count": 383,
   "metadata": {},
   "outputs": [],
   "source": [
    "x_train_t = x_train.reshape(x_train.shape[0],21,1)\n",
    "x_test_t = x_test.reshape(x_test.shape[0],21,1)"
   ]
  },
  {
   "cell_type": "code",
   "execution_count": 384,
   "metadata": {},
   "outputs": [
    {
     "name": "stdout",
     "output_type": "stream",
     "text": [
      "최종 DATA\n",
      "(85963, 21, 1)\n"
     ]
    }
   ],
   "source": [
    "print(\"최종 DATA\")\n",
    "print(x_train_t.shape)"
   ]
  },
  {
   "cell_type": "markdown",
   "metadata": {},
   "source": [
    "# LSTM 모델 만들기"
   ]
  },
  {
   "cell_type": "code",
   "execution_count": 385,
   "metadata": {},
   "outputs": [],
   "source": [
    "K.clear_session()\n",
    "model = Sequential()\n",
    "model.add(LSTM(20,input_shape = (21,1))) # layer = 20\n",
    "model.add(Dense(1)) # output = 1\n",
    "model.compile(loss = 'mean_squared_error', optimizer = 'adam')\n",
    "early_stop = EarlyStopping(monitor = 'loss', patience = 1, verbose = 1, mode = 'auto')"
   ]
  },
  {
   "cell_type": "code",
   "execution_count": 386,
   "metadata": {},
   "outputs": [
    {
     "name": "stdout",
     "output_type": "stream",
     "text": [
      "Epoch 1/30\n",
      "85963/85963 [==============================] - 19s 218us/step - loss: 0.0223\n",
      "Epoch 2/30\n",
      "85963/85963 [==============================] - 18s 211us/step - loss: 0.0088\n",
      "Epoch 3/30\n",
      "85963/85963 [==============================] - 20s 230us/step - loss: 0.0082\n",
      "Epoch 4/30\n",
      "85963/85963 [==============================] - 18s 214us/step - loss: 0.0078\n",
      "Epoch 5/30\n",
      "85963/85963 [==============================] - 21s 244us/step - loss: 0.0075\n",
      "Epoch 6/30\n",
      "85963/85963 [==============================] - 18s 213us/step - loss: 0.0073\n",
      "Epoch 7/30\n",
      "85963/85963 [==============================] - 20s 236us/step - loss: 0.0071\n",
      "Epoch 8/30\n",
      "85963/85963 [==============================] - 18s 204us/step - loss: 0.0071\n",
      "Epoch 9/30\n",
      "85963/85963 [==============================] - 19s 219us/step - loss: 0.0069\n",
      "Epoch 10/30\n",
      "85963/85963 [==============================] - 21s 241us/step - loss: 0.0067\n",
      "Epoch 11/30\n",
      "85963/85963 [==============================] - 18s 208us/step - loss: 0.0066\n",
      "Epoch 12/30\n",
      "85963/85963 [==============================] - 22s 257us/step - loss: 0.0064\n",
      "Epoch 13/30\n",
      "85963/85963 [==============================] - 19s 222us/step - loss: 0.0062\n",
      "Epoch 14/30\n",
      "85963/85963 [==============================] - 19s 224us/step - loss: 0.0060\n",
      "Epoch 15/30\n",
      "85963/85963 [==============================] - 19s 219us/step - loss: 0.0059\n",
      "Epoch 16/30\n",
      "85963/85963 [==============================] - 19s 218us/step - loss: 0.0058\n",
      "Epoch 17/30\n",
      "85963/85963 [==============================] - 18s 213us/step - loss: 0.0058\n",
      "Epoch 18/30\n",
      "85963/85963 [==============================] - 18s 212us/step - loss: 0.0058\n",
      "Epoch 19/30\n",
      "85963/85963 [==============================] - 18s 214us/step - loss: 0.0057\n",
      "Epoch 20/30\n",
      "85963/85963 [==============================] - 19s 216us/step - loss: 0.0057\n",
      "Epoch 21/30\n",
      "85963/85963 [==============================] - 19s 217us/step - loss: 0.0057\n",
      "Epoch 22/30\n",
      "85963/85963 [==============================] - 17s 203us/step - loss: 0.0057\n",
      "Epoch 23/30\n",
      "85963/85963 [==============================] - 18s 209us/step - loss: 0.0056\n",
      "Epoch 24/30\n",
      "85963/85963 [==============================] - 18s 213us/step - loss: 0.0056\n",
      "Epoch 25/30\n",
      "85963/85963 [==============================] - 18s 213us/step - loss: 0.0056\n",
      "Epoch 26/30\n",
      "85963/85963 [==============================] - ETA: 0s - loss: 0.005 - 18s 207us/step - loss: 0.0056\n",
      "Epoch 27/30\n",
      "85963/85963 [==============================] - 18s 207us/step - loss: 0.0056\n",
      "Epoch 28/30\n",
      "85963/85963 [==============================] - 18s 205us/step - loss: 0.0056\n",
      "Epoch 29/30\n",
      "85963/85963 [==============================] - 19s 216us/step - loss: 0.00561\n",
      "Epoch 30/30\n",
      "85963/85963 [==============================] - 19s 222us/step - loss: 0.0055\n"
     ]
    },
    {
     "data": {
      "text/plain": [
       "<keras.callbacks.callbacks.History at 0x1dd1d02d198>"
      ]
     },
     "execution_count": 386,
     "metadata": {},
     "output_type": "execute_result"
    }
   ],
   "source": [
    "model.fit(x_train_t, y_train, epochs = 30, batch_size = 100, verbose = 1, callbacks = [early_stop])"
   ]
  },
  {
   "cell_type": "code",
   "execution_count": 387,
   "metadata": {},
   "outputs": [
    {
     "data": {
      "text/html": [
       "<div>\n",
       "<style scoped>\n",
       "    .dataframe tbody tr th:only-of-type {\n",
       "        vertical-align: middle;\n",
       "    }\n",
       "\n",
       "    .dataframe tbody tr th {\n",
       "        vertical-align: top;\n",
       "    }\n",
       "\n",
       "    .dataframe thead th {\n",
       "        text-align: right;\n",
       "    }\n",
       "</style>\n",
       "<table border=\"1\" class=\"dataframe\">\n",
       "  <thead>\n",
       "    <tr style=\"text-align: right;\">\n",
       "      <th></th>\n",
       "      <th>ITEM_TEMP_TEST</th>\n",
       "      <th>ITEM_TEMP_PRED</th>\n",
       "    </tr>\n",
       "  </thead>\n",
       "  <tbody>\n",
       "    <tr>\n",
       "      <th>0</th>\n",
       "      <td>0.117949</td>\n",
       "      <td>0.111679</td>\n",
       "    </tr>\n",
       "    <tr>\n",
       "      <th>1</th>\n",
       "      <td>0.123077</td>\n",
       "      <td>0.069315</td>\n",
       "    </tr>\n",
       "    <tr>\n",
       "      <th>2</th>\n",
       "      <td>0.030769</td>\n",
       "      <td>0.063692</td>\n",
       "    </tr>\n",
       "    <tr>\n",
       "      <th>3</th>\n",
       "      <td>0.028205</td>\n",
       "      <td>0.082151</td>\n",
       "    </tr>\n",
       "    <tr>\n",
       "      <th>4</th>\n",
       "      <td>0.100000</td>\n",
       "      <td>0.085591</td>\n",
       "    </tr>\n",
       "  </tbody>\n",
       "</table>\n",
       "</div>"
      ],
      "text/plain": [
       "   ITEM_TEMP_TEST  ITEM_TEMP_PRED\n",
       "0        0.117949        0.111679\n",
       "1        0.123077        0.069315\n",
       "2        0.030769        0.063692\n",
       "3        0.028205        0.082151\n",
       "4        0.100000        0.085591"
      ]
     },
     "execution_count": 387,
     "metadata": {},
     "output_type": "execute_result"
    }
   ],
   "source": [
    "y_pred = model.predict(x_test_t)\n",
    "\n",
    "y_test = pd.DataFrame(y_test, columns = ['ITEM_TEMP_TEST'])\n",
    "y_pred = pd.DataFrame(y_pred, columns = ['ITEM_TEMP_PRED'])\n",
    "\n",
    "result = pd.concat([y_test, y_pred], axis = 1)\n",
    "result = pd.DataFrame(result, columns = ['ITEM_TEMP_TEST', 'ITEM_TEMP_PRED'])\n",
    "\n",
    "result.head()"
   ]
  },
  {
   "cell_type": "markdown",
   "metadata": {},
   "source": [
    "# RMSE"
   ]
  },
  {
   "cell_type": "code",
   "execution_count": 388,
   "metadata": {},
   "outputs": [
    {
     "data": {
      "text/plain": [
       "0.08378627294747247"
      ]
     },
     "execution_count": 388,
     "metadata": {},
     "output_type": "execute_result"
    }
   ],
   "source": [
    "from sklearn.metrics import mean_squared_error\n",
    "mse = mean_squared_error(result['ITEM_TEMP_TEST'], result['ITEM_TEMP_PRED'])\n",
    "rmse = np.sqrt(mse)\n",
    "rmse"
   ]
  },
  {
   "cell_type": "code",
   "execution_count": 389,
   "metadata": {},
   "outputs": [
    {
     "name": "stdout",
     "output_type": "stream",
     "text": [
      "0.0837862729474726\n"
     ]
    }
   ],
   "source": [
    "a = 0\n",
    "for i in range(0, len(result)):\n",
    "    a += pow((result['ITEM_TEMP_TEST'][i] - result['ITEM_TEMP_PRED'][i]),2)\n",
    "\n",
    "RMSE = math.sqrt((1/len(result)) * a)\n",
    "print(RMSE)"
   ]
  },
  {
   "cell_type": "markdown",
   "metadata": {},
   "source": [
    "# R^2"
   ]
  },
  {
   "cell_type": "code",
   "execution_count": 390,
   "metadata": {},
   "outputs": [
    {
     "data": {
      "text/plain": [
       "0.8199955131856986"
      ]
     },
     "execution_count": 390,
     "metadata": {},
     "output_type": "execute_result"
    }
   ],
   "source": [
    "RSS = 0\n",
    "for i in range(0,len(result)):\n",
    "    RSS += pow((result['ITEM_TEMP_PRED'][i] - result['ITEM_TEMP_TEST'][i]),2)  ## residual sum of squares\n",
    "    \n",
    "TSS = 0\n",
    "for i in range(0,len(result)):\n",
    "    TSS += pow((result['ITEM_TEMP_TEST'][i]- result['ITEM_TEMP_TEST'].mean()), 2)  ## total sum of squares\n",
    "    \n",
    "R_Square = 1 - RSS/TSS\n",
    "R_Square"
   ]
  },
  {
   "cell_type": "markdown",
   "metadata": {},
   "source": [
    "# 그래프 그리기"
   ]
  },
  {
   "cell_type": "code",
   "execution_count": 230,
   "metadata": {},
   "outputs": [
    {
     "data": {
      "text/plain": [
       "<matplotlib.axes._subplots.AxesSubplot at 0x1dd0c9914a8>"
      ]
     },
     "execution_count": 230,
     "metadata": {},
     "output_type": "execute_result"
    },
    {
     "data": {
      "image/png": "[encoded data removed]",
      "text/plain": [
       "<Figure size 432x288 with 1 Axes>"
      ]
     },
     "metadata": {
      "needs_background": "light"
     },
     "output_type": "display_data"
    }
   ],
   "source": [
    "result.plot()"
   ]
  },
  {
   "cell_type": "code",
   "execution_count": null,
   "metadata": {},
   "outputs": [],
   "source": []
  }
 ],
 "metadata": {
  "kernelspec": {
   "display_name": "Python 3",
   "language": "python",
   "name": "python3"
  },
  "language_info": {
   "codemirror_mode": {
    "name": "ipython",
    "version": 3
   },
   "file_extension": ".py",
   "mimetype": "text/x-python",
   "name": "python",
   "nbconvert_exporter": "python",
   "pygments_lexer": "ipython3",
   "version": "3.7.3"
  }
 },
 "nbformat": 4,
 "nbformat_minor": 2
}
