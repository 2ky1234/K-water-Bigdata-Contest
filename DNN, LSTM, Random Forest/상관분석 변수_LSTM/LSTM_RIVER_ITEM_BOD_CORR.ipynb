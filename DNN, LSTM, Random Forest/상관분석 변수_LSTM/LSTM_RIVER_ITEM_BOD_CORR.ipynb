{
 "cells": [
  {
   "cell_type": "code",
   "execution_count": 1,
   "metadata": {},
   "outputs": [],
   "source": [
    "#-*- coding: utf-8 -*-"
   ]
  },
  {
   "cell_type": "code",
   "execution_count": 1,
   "metadata": {},
   "outputs": [
    {
     "name": "stderr",
     "output_type": "stream",
     "text": [
      "Using TensorFlow backend.\n"
     ]
    }
   ],
   "source": [
    "from tensorflow import keras\n",
    "\n",
    "import pandas as pd\n",
    "import numpy as np\n",
    "import matplotlib.pyplot as plt\n",
    "%matplotlib inline\n",
    "from pandas import DataFrame as df\n",
    "\n",
    "import numpy as np\n",
    "import matplotlib.pyplot as plt\n",
    "import pandas as pd\n",
    "import math\n",
    "\n",
    "import keras.backend as K\n",
    "from keras.models import Sequential\n",
    "from keras.layers import Dense\n",
    "from keras.layers import LSTM\n",
    "from sklearn.preprocessing import MinMaxScaler\n",
    "from sklearn.metrics import mean_squared_error\n",
    "from keras.callbacks import EarlyStopping"
   ]
  },
  {
   "cell_type": "code",
   "execution_count": 2,
   "metadata": {},
   "outputs": [],
   "source": [
    "df = pd.read_csv('C:/Users/chaeyoung/Desktop/경희대학교/공모전/K-water/데이터/하천데이터/river_final_no_na.csv', encoding = 'euc-kr')"
   ]
  },
  {
   "cell_type": "markdown",
   "metadata": {},
   "source": [
    "# 이상치 제거"
   ]
  },
  {
   "cell_type": "code",
   "execution_count": 3,
   "metadata": {},
   "outputs": [
    {
     "name": "stdout",
     "output_type": "stream",
     "text": [
      "ITEM_TEMP           13.700000\n",
      "ITEM_PH              0.700000\n",
      "ITEM_DOC             3.700000\n",
      "ITEM_BOD             1.810092\n",
      "ITEM_COD             3.700000\n",
      "ITEM_TN              1.980000\n",
      "MEAN_TEMP           15.700000\n",
      "L_TEMP              16.900000\n",
      "U_TEMP              15.400000\n",
      "MAX_MOMENT_WIND      3.300000\n",
      "MAX_MIN              2.100000\n",
      "MEAN_WIND            1.100000\n",
      "M_WIND_100         923.000000\n",
      "MEAN_DEW            17.500000\n",
      "L_REHU              26.000000\n",
      "MEAN_MOIS           21.487857\n",
      "MEAN_STPR           12.996525\n",
      "MEAN_hPa            14.900000\n",
      "U_hPa               12.724113\n",
      "L_hPa               12.000000\n",
      "MEAN_PRES           12.200000\n",
      "MEAN_SUN             3.144942\n",
      "SUM_SUN              6.300000\n",
      "MEAN_LAND           18.100000\n",
      "L_TEMP.1            18.100000\n",
      "ITEM_SS              7.500000\n",
      "ITEM_TP              0.063000\n",
      "dtype: float64\n"
     ]
    }
   ],
   "source": [
    "river = df\n",
    "\n",
    "# 결측치 제거\n",
    "river = river.dropna(axis=0)\n",
    "np.shape(river)\n",
    "\n",
    "Q1 = river.quantile(0.25)\n",
    "Q3 = river.quantile(0.75)\n",
    "IQR = Q3 - Q1\n",
    "print(IQR)\n",
    "\n",
    "river_out = river[~((river.iloc[:,1:] < (Q1 - 1.5 * IQR)) |(river.iloc[:,1:] > (Q3 + 1.5 * IQR))).any(axis=1)]\n",
    "river_out.shape\n",
    "\n",
    "temp = river_out"
   ]
  },
  {
   "cell_type": "code",
   "execution_count": 4,
   "metadata": {},
   "outputs": [
    {
     "data": {
      "text/html": [
       "<div>\n",
       "<style scoped>\n",
       "    .dataframe tbody tr th:only-of-type {\n",
       "        vertical-align: middle;\n",
       "    }\n",
       "\n",
       "    .dataframe tbody tr th {\n",
       "        vertical-align: top;\n",
       "    }\n",
       "\n",
       "    .dataframe thead th {\n",
       "        text-align: right;\n",
       "    }\n",
       "</style>\n",
       "<table border=\"1\" class=\"dataframe\">\n",
       "  <thead>\n",
       "    <tr style=\"text-align: right;\">\n",
       "      <th></th>\n",
       "      <th>ITEM_TEMP</th>\n",
       "      <th>ITEM_PH</th>\n",
       "      <th>ITEM_DOC</th>\n",
       "      <th>ITEM_BOD</th>\n",
       "      <th>ITEM_COD</th>\n",
       "      <th>ITEM_TN</th>\n",
       "      <th>MEAN_TEMP</th>\n",
       "      <th>L_TEMP</th>\n",
       "      <th>U_TEMP</th>\n",
       "      <th>MAX_MOMENT_WIND</th>\n",
       "      <th>...</th>\n",
       "      <th>U_hPa</th>\n",
       "      <th>L_hPa</th>\n",
       "      <th>MEAN_PRES</th>\n",
       "      <th>MEAN_SUN</th>\n",
       "      <th>SUM_SUN</th>\n",
       "      <th>MEAN_LAND</th>\n",
       "      <th>L_TEMP.1</th>\n",
       "      <th>ITEM_SS</th>\n",
       "      <th>ITEM_TP</th>\n",
       "      <th>key</th>\n",
       "    </tr>\n",
       "  </thead>\n",
       "  <tbody>\n",
       "    <tr>\n",
       "      <th>0</th>\n",
       "      <td>38.1</td>\n",
       "      <td>7.9</td>\n",
       "      <td>6.6</td>\n",
       "      <td>0.8</td>\n",
       "      <td>3.9</td>\n",
       "      <td>0.945</td>\n",
       "      <td>28.7</td>\n",
       "      <td>25.9</td>\n",
       "      <td>35.1</td>\n",
       "      <td>7.6</td>\n",
       "      <td>...</td>\n",
       "      <td>1000.0</td>\n",
       "      <td>996.5</td>\n",
       "      <td>998.2</td>\n",
       "      <td>13.8</td>\n",
       "      <td>11.0</td>\n",
       "      <td>33.1</td>\n",
       "      <td>24.2</td>\n",
       "      <td>1.4</td>\n",
       "      <td>0.130</td>\n",
       "      <td>2017.08.07울산</td>\n",
       "    </tr>\n",
       "    <tr>\n",
       "      <th>1</th>\n",
       "      <td>37.6</td>\n",
       "      <td>8.0</td>\n",
       "      <td>8.4</td>\n",
       "      <td>0.4</td>\n",
       "      <td>7.9</td>\n",
       "      <td>5.381</td>\n",
       "      <td>30.6</td>\n",
       "      <td>26.3</td>\n",
       "      <td>36.2</td>\n",
       "      <td>9.6</td>\n",
       "      <td>...</td>\n",
       "      <td>1011.1</td>\n",
       "      <td>1007.5</td>\n",
       "      <td>1009.5</td>\n",
       "      <td>13.9</td>\n",
       "      <td>12.3</td>\n",
       "      <td>36.8</td>\n",
       "      <td>23.1</td>\n",
       "      <td>9.0</td>\n",
       "      <td>0.092</td>\n",
       "      <td>2015.08.03울산</td>\n",
       "    </tr>\n",
       "    <tr>\n",
       "      <th>3</th>\n",
       "      <td>36.7</td>\n",
       "      <td>7.5</td>\n",
       "      <td>6.8</td>\n",
       "      <td>0.3</td>\n",
       "      <td>3.6</td>\n",
       "      <td>0.940</td>\n",
       "      <td>28.6</td>\n",
       "      <td>23.6</td>\n",
       "      <td>33.8</td>\n",
       "      <td>6.2</td>\n",
       "      <td>...</td>\n",
       "      <td>1006.2</td>\n",
       "      <td>1002.9</td>\n",
       "      <td>1004.4</td>\n",
       "      <td>13.9</td>\n",
       "      <td>12.9</td>\n",
       "      <td>35.2</td>\n",
       "      <td>21.4</td>\n",
       "      <td>1.6</td>\n",
       "      <td>0.121</td>\n",
       "      <td>2018.08.01울산</td>\n",
       "    </tr>\n",
       "    <tr>\n",
       "      <th>6</th>\n",
       "      <td>36.2</td>\n",
       "      <td>7.7</td>\n",
       "      <td>9.0</td>\n",
       "      <td>0.7</td>\n",
       "      <td>3.0</td>\n",
       "      <td>1.374</td>\n",
       "      <td>26.3</td>\n",
       "      <td>20.6</td>\n",
       "      <td>33.0</td>\n",
       "      <td>8.7</td>\n",
       "      <td>...</td>\n",
       "      <td>1009.5</td>\n",
       "      <td>1004.6</td>\n",
       "      <td>1007.1</td>\n",
       "      <td>14.5</td>\n",
       "      <td>12.5</td>\n",
       "      <td>32.8</td>\n",
       "      <td>18.9</td>\n",
       "      <td>4.0</td>\n",
       "      <td>0.018</td>\n",
       "      <td>2014.07.14안동</td>\n",
       "    </tr>\n",
       "    <tr>\n",
       "      <th>7</th>\n",
       "      <td>36.0</td>\n",
       "      <td>8.7</td>\n",
       "      <td>9.0</td>\n",
       "      <td>2.5</td>\n",
       "      <td>9.7</td>\n",
       "      <td>1.687</td>\n",
       "      <td>31.2</td>\n",
       "      <td>23.8</td>\n",
       "      <td>37.9</td>\n",
       "      <td>4.9</td>\n",
       "      <td>...</td>\n",
       "      <td>1007.5</td>\n",
       "      <td>1004.1</td>\n",
       "      <td>1006.1</td>\n",
       "      <td>14.0</td>\n",
       "      <td>10.8</td>\n",
       "      <td>39.2</td>\n",
       "      <td>21.5</td>\n",
       "      <td>5.0</td>\n",
       "      <td>0.025</td>\n",
       "      <td>2018.08.02구미</td>\n",
       "    </tr>\n",
       "  </tbody>\n",
       "</table>\n",
       "<p>5 rows × 28 columns</p>\n",
       "</div>"
      ],
      "text/plain": [
       "   ITEM_TEMP  ITEM_PH  ITEM_DOC  ITEM_BOD  ITEM_COD  ITEM_TN  MEAN_TEMP  \\\n",
       "0       38.1      7.9       6.6       0.8       3.9    0.945       28.7   \n",
       "1       37.6      8.0       8.4       0.4       7.9    5.381       30.6   \n",
       "3       36.7      7.5       6.8       0.3       3.6    0.940       28.6   \n",
       "6       36.2      7.7       9.0       0.7       3.0    1.374       26.3   \n",
       "7       36.0      8.7       9.0       2.5       9.7    1.687       31.2   \n",
       "\n",
       "   L_TEMP  U_TEMP  MAX_MOMENT_WIND  ...   U_hPa   L_hPa  MEAN_PRES  MEAN_SUN  \\\n",
       "0    25.9    35.1              7.6  ...  1000.0   996.5      998.2      13.8   \n",
       "1    26.3    36.2              9.6  ...  1011.1  1007.5     1009.5      13.9   \n",
       "3    23.6    33.8              6.2  ...  1006.2  1002.9     1004.4      13.9   \n",
       "6    20.6    33.0              8.7  ...  1009.5  1004.6     1007.1      14.5   \n",
       "7    23.8    37.9              4.9  ...  1007.5  1004.1     1006.1      14.0   \n",
       "\n",
       "   SUM_SUN  MEAN_LAND  L_TEMP.1  ITEM_SS  ITEM_TP           key  \n",
       "0     11.0       33.1      24.2      1.4    0.130  2017.08.07울산  \n",
       "1     12.3       36.8      23.1      9.0    0.092  2015.08.03울산  \n",
       "3     12.9       35.2      21.4      1.6    0.121  2018.08.01울산  \n",
       "6     12.5       32.8      18.9      4.0    0.018  2014.07.14안동  \n",
       "7     10.8       39.2      21.5      5.0    0.025  2018.08.02구미  \n",
       "\n",
       "[5 rows x 28 columns]"
      ]
     },
     "execution_count": 4,
     "metadata": {},
     "output_type": "execute_result"
    }
   ],
   "source": [
    "temp.head()"
   ]
  },
  {
   "cell_type": "markdown",
   "metadata": {},
   "source": [
    "# 변수 스케일링"
   ]
  },
  {
   "cell_type": "code",
   "execution_count": 5,
   "metadata": {},
   "outputs": [],
   "source": [
    "time = temp[['key']]\n",
    "not_time = temp[['ITEM_TEMP', 'ITEM_PH', 'ITEM_DOC', 'ITEM_BOD', 'ITEM_COD', 'ITEM_TN',\n",
    " 'MEAN_TEMP', 'L_TEMP', 'U_TEMP', 'MAX_MOMENT_WIND', 'MAX_MIN', 'MEAN_WIND', 'M_WIND_100',\n",
    " 'MEAN_DEW', 'L_REHU', 'MEAN_MOIS', 'MEAN_STPR', 'MEAN_hPa', 'U_hPa', 'L_hPa', 'MEAN_PRES',\n",
    " 'MEAN_SUN', 'SUM_SUN', 'MEAN_LAND', 'L_TEMP.1', 'ITEM_SS','ITEM_TP' ]]"
   ]
  },
  {
   "cell_type": "code",
   "execution_count": 6,
   "metadata": {},
   "outputs": [
    {
     "data": {
      "text/html": [
       "<div>\n",
       "<style scoped>\n",
       "    .dataframe tbody tr th:only-of-type {\n",
       "        vertical-align: middle;\n",
       "    }\n",
       "\n",
       "    .dataframe tbody tr th {\n",
       "        vertical-align: top;\n",
       "    }\n",
       "\n",
       "    .dataframe thead th {\n",
       "        text-align: right;\n",
       "    }\n",
       "</style>\n",
       "<table border=\"1\" class=\"dataframe\">\n",
       "  <thead>\n",
       "    <tr style=\"text-align: right;\">\n",
       "      <th></th>\n",
       "      <th>ITEM_TEMP</th>\n",
       "      <th>ITEM_PH</th>\n",
       "      <th>ITEM_DOC</th>\n",
       "      <th>ITEM_BOD</th>\n",
       "      <th>ITEM_COD</th>\n",
       "      <th>ITEM_TN</th>\n",
       "      <th>MEAN_TEMP</th>\n",
       "      <th>L_TEMP</th>\n",
       "      <th>U_TEMP</th>\n",
       "      <th>MAX_MOMENT_WIND</th>\n",
       "      <th>...</th>\n",
       "      <th>MEAN_hPa</th>\n",
       "      <th>U_hPa</th>\n",
       "      <th>L_hPa</th>\n",
       "      <th>MEAN_PRES</th>\n",
       "      <th>MEAN_SUN</th>\n",
       "      <th>SUM_SUN</th>\n",
       "      <th>MEAN_LAND</th>\n",
       "      <th>L_TEMP.1</th>\n",
       "      <th>ITEM_SS</th>\n",
       "      <th>ITEM_TP</th>\n",
       "    </tr>\n",
       "  </thead>\n",
       "  <tbody>\n",
       "    <tr>\n",
       "      <th>0</th>\n",
       "      <td>38.1</td>\n",
       "      <td>7.9</td>\n",
       "      <td>6.6</td>\n",
       "      <td>0.8</td>\n",
       "      <td>3.9</td>\n",
       "      <td>0.945</td>\n",
       "      <td>28.7</td>\n",
       "      <td>25.9</td>\n",
       "      <td>35.1</td>\n",
       "      <td>7.6</td>\n",
       "      <td>...</td>\n",
       "      <td>989.1</td>\n",
       "      <td>1000.0</td>\n",
       "      <td>996.5</td>\n",
       "      <td>998.2</td>\n",
       "      <td>13.8</td>\n",
       "      <td>11.0</td>\n",
       "      <td>33.1</td>\n",
       "      <td>24.2</td>\n",
       "      <td>1.4</td>\n",
       "      <td>0.130</td>\n",
       "    </tr>\n",
       "    <tr>\n",
       "      <th>1</th>\n",
       "      <td>37.6</td>\n",
       "      <td>8.0</td>\n",
       "      <td>8.4</td>\n",
       "      <td>0.4</td>\n",
       "      <td>7.9</td>\n",
       "      <td>5.381</td>\n",
       "      <td>30.6</td>\n",
       "      <td>26.3</td>\n",
       "      <td>36.2</td>\n",
       "      <td>9.6</td>\n",
       "      <td>...</td>\n",
       "      <td>1005.6</td>\n",
       "      <td>1011.1</td>\n",
       "      <td>1007.5</td>\n",
       "      <td>1009.5</td>\n",
       "      <td>13.9</td>\n",
       "      <td>12.3</td>\n",
       "      <td>36.8</td>\n",
       "      <td>23.1</td>\n",
       "      <td>9.0</td>\n",
       "      <td>0.092</td>\n",
       "    </tr>\n",
       "    <tr>\n",
       "      <th>3</th>\n",
       "      <td>36.7</td>\n",
       "      <td>7.5</td>\n",
       "      <td>6.8</td>\n",
       "      <td>0.3</td>\n",
       "      <td>3.6</td>\n",
       "      <td>0.940</td>\n",
       "      <td>28.6</td>\n",
       "      <td>23.6</td>\n",
       "      <td>33.8</td>\n",
       "      <td>6.2</td>\n",
       "      <td>...</td>\n",
       "      <td>995.1</td>\n",
       "      <td>1006.2</td>\n",
       "      <td>1002.9</td>\n",
       "      <td>1004.4</td>\n",
       "      <td>13.9</td>\n",
       "      <td>12.9</td>\n",
       "      <td>35.2</td>\n",
       "      <td>21.4</td>\n",
       "      <td>1.6</td>\n",
       "      <td>0.121</td>\n",
       "    </tr>\n",
       "    <tr>\n",
       "      <th>6</th>\n",
       "      <td>36.2</td>\n",
       "      <td>7.7</td>\n",
       "      <td>9.0</td>\n",
       "      <td>0.7</td>\n",
       "      <td>3.0</td>\n",
       "      <td>1.374</td>\n",
       "      <td>26.3</td>\n",
       "      <td>20.6</td>\n",
       "      <td>33.0</td>\n",
       "      <td>8.7</td>\n",
       "      <td>...</td>\n",
       "      <td>991.4</td>\n",
       "      <td>1009.5</td>\n",
       "      <td>1004.6</td>\n",
       "      <td>1007.1</td>\n",
       "      <td>14.5</td>\n",
       "      <td>12.5</td>\n",
       "      <td>32.8</td>\n",
       "      <td>18.9</td>\n",
       "      <td>4.0</td>\n",
       "      <td>0.018</td>\n",
       "    </tr>\n",
       "    <tr>\n",
       "      <th>7</th>\n",
       "      <td>36.0</td>\n",
       "      <td>8.7</td>\n",
       "      <td>9.0</td>\n",
       "      <td>2.5</td>\n",
       "      <td>9.7</td>\n",
       "      <td>1.687</td>\n",
       "      <td>31.2</td>\n",
       "      <td>23.8</td>\n",
       "      <td>37.9</td>\n",
       "      <td>4.9</td>\n",
       "      <td>...</td>\n",
       "      <td>1000.7</td>\n",
       "      <td>1007.5</td>\n",
       "      <td>1004.1</td>\n",
       "      <td>1006.1</td>\n",
       "      <td>14.0</td>\n",
       "      <td>10.8</td>\n",
       "      <td>39.2</td>\n",
       "      <td>21.5</td>\n",
       "      <td>5.0</td>\n",
       "      <td>0.025</td>\n",
       "    </tr>\n",
       "  </tbody>\n",
       "</table>\n",
       "<p>5 rows × 27 columns</p>\n",
       "</div>"
      ],
      "text/plain": [
       "   ITEM_TEMP  ITEM_PH  ITEM_DOC  ITEM_BOD  ITEM_COD  ITEM_TN  MEAN_TEMP  \\\n",
       "0       38.1      7.9       6.6       0.8       3.9    0.945       28.7   \n",
       "1       37.6      8.0       8.4       0.4       7.9    5.381       30.6   \n",
       "3       36.7      7.5       6.8       0.3       3.6    0.940       28.6   \n",
       "6       36.2      7.7       9.0       0.7       3.0    1.374       26.3   \n",
       "7       36.0      8.7       9.0       2.5       9.7    1.687       31.2   \n",
       "\n",
       "   L_TEMP  U_TEMP  MAX_MOMENT_WIND  ...  MEAN_hPa   U_hPa   L_hPa  MEAN_PRES  \\\n",
       "0    25.9    35.1              7.6  ...     989.1  1000.0   996.5      998.2   \n",
       "1    26.3    36.2              9.6  ...    1005.6  1011.1  1007.5     1009.5   \n",
       "3    23.6    33.8              6.2  ...     995.1  1006.2  1002.9     1004.4   \n",
       "6    20.6    33.0              8.7  ...     991.4  1009.5  1004.6     1007.1   \n",
       "7    23.8    37.9              4.9  ...    1000.7  1007.5  1004.1     1006.1   \n",
       "\n",
       "   MEAN_SUN  SUM_SUN  MEAN_LAND  L_TEMP.1  ITEM_SS  ITEM_TP  \n",
       "0      13.8     11.0       33.1      24.2      1.4    0.130  \n",
       "1      13.9     12.3       36.8      23.1      9.0    0.092  \n",
       "3      13.9     12.9       35.2      21.4      1.6    0.121  \n",
       "6      14.5     12.5       32.8      18.9      4.0    0.018  \n",
       "7      14.0     10.8       39.2      21.5      5.0    0.025  \n",
       "\n",
       "[5 rows x 27 columns]"
      ]
     },
     "execution_count": 6,
     "metadata": {},
     "output_type": "execute_result"
    }
   ],
   "source": [
    "not_time.head()"
   ]
  },
  {
   "cell_type": "code",
   "execution_count": 7,
   "metadata": {},
   "outputs": [],
   "source": [
    "min_max_scaler = MinMaxScaler()\n",
    "not_time = min_max_scaler.fit_transform(not_time)\n",
    "not_time = pd.DataFrame(not_time, index = not_time[:,0])"
   ]
  },
  {
   "cell_type": "code",
   "execution_count": 8,
   "metadata": {},
   "outputs": [],
   "source": [
    "not_time.columns = ['ITEM_TEMP', 'ITEM_PH', 'ITEM_DOC', 'ITEM_BOD', 'ITEM_COD', 'ITEM_TN',\n",
    " 'MEAN_TEMP', 'L_TEMP', 'U_TEMP', 'MAX_MOMENT_WIND', 'MAX_MIN', 'MEAN_WIND', 'M_WIND_100',\n",
    " 'MEAN_DEW', 'L_REHU', 'MEAN_MOIS', 'MEAN_STPR', 'MEAN_hPa', 'U_hPa', 'L_hPa', 'MEAN_PRES',\n",
    " 'MEAN_SUN', 'SUM_SUN', 'MEAN_LAND', 'L_TEMP.1', 'ITEM_SS','ITEM_TP']\n",
    "not_time = not_time[['ITEM_TEMP', 'ITEM_PH', 'ITEM_DOC', 'ITEM_BOD', 'ITEM_COD', 'ITEM_TN',\n",
    " 'MEAN_TEMP', 'L_TEMP', 'U_TEMP', 'MAX_MOMENT_WIND', 'MAX_MIN', 'MEAN_WIND', 'M_WIND_100',\n",
    " 'MEAN_DEW', 'L_REHU', 'MEAN_MOIS', 'MEAN_STPR', 'MEAN_hPa', 'U_hPa', 'L_hPa', 'MEAN_PRES',\n",
    " 'MEAN_SUN', 'SUM_SUN', 'MEAN_LAND', 'L_TEMP.1', 'ITEM_SS','ITEM_TP']]\n",
    "\n",
    "not_time.reset_index(drop=True, inplace=True)\n",
    "time.reset_index(drop=True, inplace=True)"
   ]
  },
  {
   "cell_type": "code",
   "execution_count": 9,
   "metadata": {},
   "outputs": [],
   "source": [
    "temp = pd.concat([time, not_time], axis = 1)"
   ]
  },
  {
   "cell_type": "code",
   "execution_count": 10,
   "metadata": {},
   "outputs": [],
   "source": [
    "#temp.to_csv('raw_river.csv')"
   ]
  },
  {
   "cell_type": "markdown",
   "metadata": {},
   "source": [
    "# ITEM_TEMP와의 상관분석"
   ]
  },
  {
   "cell_type": "code",
   "execution_count": 11,
   "metadata": {},
   "outputs": [],
   "source": [
    "df = temp"
   ]
  },
  {
   "cell_type": "code",
   "execution_count": 12,
   "metadata": {},
   "outputs": [],
   "source": [
    "df_corr = df.corr()\n",
    "df_corr = df_corr[\"ITEM_BOD\"]"
   ]
  },
  {
   "cell_type": "code",
   "execution_count": 13,
   "metadata": {
    "scrolled": true
   },
   "outputs": [
    {
     "data": {
      "text/html": [
       "<div>\n",
       "<style scoped>\n",
       "    .dataframe tbody tr th:only-of-type {\n",
       "        vertical-align: middle;\n",
       "    }\n",
       "\n",
       "    .dataframe tbody tr th {\n",
       "        vertical-align: top;\n",
       "    }\n",
       "\n",
       "    .dataframe thead th {\n",
       "        text-align: right;\n",
       "    }\n",
       "</style>\n",
       "<table border=\"1\" class=\"dataframe\">\n",
       "  <thead>\n",
       "    <tr style=\"text-align: right;\">\n",
       "      <th></th>\n",
       "      <th>ITEM_BOD</th>\n",
       "    </tr>\n",
       "  </thead>\n",
       "  <tbody>\n",
       "    <tr>\n",
       "      <th>ITEM_TEMP</th>\n",
       "      <td>0.137814</td>\n",
       "    </tr>\n",
       "    <tr>\n",
       "      <th>ITEM_PH</th>\n",
       "      <td>0.096645</td>\n",
       "    </tr>\n",
       "    <tr>\n",
       "      <th>ITEM_DOC</th>\n",
       "      <td>-0.050717</td>\n",
       "    </tr>\n",
       "    <tr>\n",
       "      <th>ITEM_BOD</th>\n",
       "      <td>1.000000</td>\n",
       "    </tr>\n",
       "    <tr>\n",
       "      <th>ITEM_COD</th>\n",
       "      <td>0.598687</td>\n",
       "    </tr>\n",
       "    <tr>\n",
       "      <th>ITEM_TN</th>\n",
       "      <td>0.170061</td>\n",
       "    </tr>\n",
       "    <tr>\n",
       "      <th>MEAN_TEMP</th>\n",
       "      <td>0.105701</td>\n",
       "    </tr>\n",
       "    <tr>\n",
       "      <th>L_TEMP</th>\n",
       "      <td>0.107505</td>\n",
       "    </tr>\n",
       "    <tr>\n",
       "      <th>U_TEMP</th>\n",
       "      <td>0.095477</td>\n",
       "    </tr>\n",
       "    <tr>\n",
       "      <th>MAX_MOMENT_WIND</th>\n",
       "      <td>0.043942</td>\n",
       "    </tr>\n",
       "    <tr>\n",
       "      <th>MAX_MIN</th>\n",
       "      <td>0.052031</td>\n",
       "    </tr>\n",
       "    <tr>\n",
       "      <th>MEAN_WIND</th>\n",
       "      <td>0.061048</td>\n",
       "    </tr>\n",
       "    <tr>\n",
       "      <th>M_WIND_100</th>\n",
       "      <td>0.061146</td>\n",
       "    </tr>\n",
       "    <tr>\n",
       "      <th>MEAN_DEW</th>\n",
       "      <td>0.092453</td>\n",
       "    </tr>\n",
       "    <tr>\n",
       "      <th>L_REHU</th>\n",
       "      <td>0.036495</td>\n",
       "    </tr>\n",
       "    <tr>\n",
       "      <th>MEAN_MOIS</th>\n",
       "      <td>0.014329</td>\n",
       "    </tr>\n",
       "    <tr>\n",
       "      <th>MEAN_STPR</th>\n",
       "      <td>0.086348</td>\n",
       "    </tr>\n",
       "    <tr>\n",
       "      <th>MEAN_hPa</th>\n",
       "      <td>0.077908</td>\n",
       "    </tr>\n",
       "    <tr>\n",
       "      <th>U_hPa</th>\n",
       "      <td>-0.107263</td>\n",
       "    </tr>\n",
       "    <tr>\n",
       "      <th>L_hPa</th>\n",
       "      <td>-0.098497</td>\n",
       "    </tr>\n",
       "    <tr>\n",
       "      <th>MEAN_PRES</th>\n",
       "      <td>-0.104372</td>\n",
       "    </tr>\n",
       "    <tr>\n",
       "      <th>MEAN_SUN</th>\n",
       "      <td>0.136585</td>\n",
       "    </tr>\n",
       "    <tr>\n",
       "      <th>SUM_SUN</th>\n",
       "      <td>0.020149</td>\n",
       "    </tr>\n",
       "    <tr>\n",
       "      <th>MEAN_LAND</th>\n",
       "      <td>0.106611</td>\n",
       "    </tr>\n",
       "    <tr>\n",
       "      <th>L_TEMP.1</th>\n",
       "      <td>0.098226</td>\n",
       "    </tr>\n",
       "    <tr>\n",
       "      <th>ITEM_SS</th>\n",
       "      <td>0.459304</td>\n",
       "    </tr>\n",
       "    <tr>\n",
       "      <th>ITEM_TP</th>\n",
       "      <td>0.394456</td>\n",
       "    </tr>\n",
       "  </tbody>\n",
       "</table>\n",
       "</div>"
      ],
      "text/plain": [
       "                 ITEM_BOD\n",
       "ITEM_TEMP        0.137814\n",
       "ITEM_PH          0.096645\n",
       "ITEM_DOC        -0.050717\n",
       "ITEM_BOD         1.000000\n",
       "ITEM_COD         0.598687\n",
       "ITEM_TN          0.170061\n",
       "MEAN_TEMP        0.105701\n",
       "L_TEMP           0.107505\n",
       "U_TEMP           0.095477\n",
       "MAX_MOMENT_WIND  0.043942\n",
       "MAX_MIN          0.052031\n",
       "MEAN_WIND        0.061048\n",
       "M_WIND_100       0.061146\n",
       "MEAN_DEW         0.092453\n",
       "L_REHU           0.036495\n",
       "MEAN_MOIS        0.014329\n",
       "MEAN_STPR        0.086348\n",
       "MEAN_hPa         0.077908\n",
       "U_hPa           -0.107263\n",
       "L_hPa           -0.098497\n",
       "MEAN_PRES       -0.104372\n",
       "MEAN_SUN         0.136585\n",
       "SUM_SUN          0.020149\n",
       "MEAN_LAND        0.106611\n",
       "L_TEMP.1         0.098226\n",
       "ITEM_SS          0.459304\n",
       "ITEM_TP          0.394456"
      ]
     },
     "execution_count": 13,
     "metadata": {},
     "output_type": "execute_result"
    }
   ],
   "source": [
    "df_corr = pd.DataFrame(df_corr)\n",
    "df_corr"
   ]
  },
  {
   "cell_type": "code",
   "execution_count": 14,
   "metadata": {},
   "outputs": [],
   "source": [
    "df_corr = df_corr[abs(df_corr['ITEM_BOD']) > 0.1]"
   ]
  },
  {
   "cell_type": "code",
   "execution_count": 15,
   "metadata": {},
   "outputs": [],
   "source": [
    "df_corr_name = list(df_corr.T)"
   ]
  },
  {
   "cell_type": "code",
   "execution_count": 16,
   "metadata": {},
   "outputs": [],
   "source": [
    "df_corr_name = pd.DataFrame(df_corr_name)\n",
    "df_corr_name = df_corr_name.T"
   ]
  },
  {
   "cell_type": "code",
   "execution_count": 17,
   "metadata": {},
   "outputs": [
    {
     "data": {
      "text/html": [
       "<div>\n",
       "<style scoped>\n",
       "    .dataframe tbody tr th:only-of-type {\n",
       "        vertical-align: middle;\n",
       "    }\n",
       "\n",
       "    .dataframe tbody tr th {\n",
       "        vertical-align: top;\n",
       "    }\n",
       "\n",
       "    .dataframe thead th {\n",
       "        text-align: right;\n",
       "    }\n",
       "</style>\n",
       "<table border=\"1\" class=\"dataframe\">\n",
       "  <thead>\n",
       "    <tr style=\"text-align: right;\">\n",
       "      <th></th>\n",
       "      <th>ITEM_TEMP</th>\n",
       "      <th>ITEM_BOD</th>\n",
       "      <th>ITEM_COD</th>\n",
       "      <th>ITEM_TN</th>\n",
       "      <th>MEAN_TEMP</th>\n",
       "      <th>L_TEMP</th>\n",
       "      <th>U_hPa</th>\n",
       "      <th>MEAN_PRES</th>\n",
       "      <th>MEAN_SUN</th>\n",
       "      <th>MEAN_LAND</th>\n",
       "      <th>ITEM_SS</th>\n",
       "      <th>ITEM_TP</th>\n",
       "    </tr>\n",
       "  </thead>\n",
       "  <tbody>\n",
       "    <tr>\n",
       "      <th>0</th>\n",
       "      <td>1.000000</td>\n",
       "      <td>0.362554</td>\n",
       "      <td>0.317073</td>\n",
       "      <td>0.146637</td>\n",
       "      <td>0.760311</td>\n",
       "      <td>0.824421</td>\n",
       "      <td>0.091216</td>\n",
       "      <td>0.118756</td>\n",
       "      <td>0.665717</td>\n",
       "      <td>0.777087</td>\n",
       "      <td>0.067633</td>\n",
       "      <td>0.751445</td>\n",
       "    </tr>\n",
       "    <tr>\n",
       "      <th>1</th>\n",
       "      <td>0.987179</td>\n",
       "      <td>0.307302</td>\n",
       "      <td>0.642276</td>\n",
       "      <td>0.845330</td>\n",
       "      <td>0.794463</td>\n",
       "      <td>0.831437</td>\n",
       "      <td>0.325166</td>\n",
       "      <td>0.358388</td>\n",
       "      <td>0.674731</td>\n",
       "      <td>0.841562</td>\n",
       "      <td>0.434783</td>\n",
       "      <td>0.531792</td>\n",
       "    </tr>\n",
       "    <tr>\n",
       "      <th>2</th>\n",
       "      <td>0.964103</td>\n",
       "      <td>0.293488</td>\n",
       "      <td>0.292683</td>\n",
       "      <td>0.145850</td>\n",
       "      <td>0.758514</td>\n",
       "      <td>0.784077</td>\n",
       "      <td>0.221891</td>\n",
       "      <td>0.250236</td>\n",
       "      <td>0.674731</td>\n",
       "      <td>0.813681</td>\n",
       "      <td>0.077295</td>\n",
       "      <td>0.699422</td>\n",
       "    </tr>\n",
       "    <tr>\n",
       "      <th>3</th>\n",
       "      <td>0.951282</td>\n",
       "      <td>0.348741</td>\n",
       "      <td>0.243902</td>\n",
       "      <td>0.214207</td>\n",
       "      <td>0.717173</td>\n",
       "      <td>0.731454</td>\n",
       "      <td>0.291444</td>\n",
       "      <td>0.307493</td>\n",
       "      <td>0.728814</td>\n",
       "      <td>0.771859</td>\n",
       "      <td>0.193237</td>\n",
       "      <td>0.104046</td>\n",
       "    </tr>\n",
       "    <tr>\n",
       "      <th>4</th>\n",
       "      <td>0.946154</td>\n",
       "      <td>0.597377</td>\n",
       "      <td>0.788618</td>\n",
       "      <td>0.263506</td>\n",
       "      <td>0.805247</td>\n",
       "      <td>0.787585</td>\n",
       "      <td>0.249290</td>\n",
       "      <td>0.286287</td>\n",
       "      <td>0.683745</td>\n",
       "      <td>0.883384</td>\n",
       "      <td>0.241546</td>\n",
       "      <td>0.144509</td>\n",
       "    </tr>\n",
       "  </tbody>\n",
       "</table>\n",
       "</div>"
      ],
      "text/plain": [
       "   ITEM_TEMP  ITEM_BOD  ITEM_COD   ITEM_TN  MEAN_TEMP    L_TEMP     U_hPa  \\\n",
       "0   1.000000  0.362554  0.317073  0.146637   0.760311  0.824421  0.091216   \n",
       "1   0.987179  0.307302  0.642276  0.845330   0.794463  0.831437  0.325166   \n",
       "2   0.964103  0.293488  0.292683  0.145850   0.758514  0.784077  0.221891   \n",
       "3   0.951282  0.348741  0.243902  0.214207   0.717173  0.731454  0.291444   \n",
       "4   0.946154  0.597377  0.788618  0.263506   0.805247  0.787585  0.249290   \n",
       "\n",
       "   MEAN_PRES  MEAN_SUN  MEAN_LAND   ITEM_SS   ITEM_TP  \n",
       "0   0.118756  0.665717   0.777087  0.067633  0.751445  \n",
       "1   0.358388  0.674731   0.841562  0.434783  0.531792  \n",
       "2   0.250236  0.674731   0.813681  0.077295  0.699422  \n",
       "3   0.307493  0.728814   0.771859  0.193237  0.104046  \n",
       "4   0.286287  0.683745   0.883384  0.241546  0.144509  "
      ]
     },
     "execution_count": 17,
     "metadata": {},
     "output_type": "execute_result"
    }
   ],
   "source": [
    "df_corr = df[list(df_corr_name.iloc[0])]\n",
    "df_corr.head(5)"
   ]
  },
  {
   "cell_type": "markdown",
   "metadata": {},
   "source": [
    "# 상관분석 변수"
   ]
  },
  {
   "cell_type": "code",
   "execution_count": 18,
   "metadata": {},
   "outputs": [
    {
     "data": {
      "text/plain": [
       "['ITEM_TEMP',\n",
       " 'ITEM_BOD',\n",
       " 'ITEM_COD',\n",
       " 'ITEM_TN',\n",
       " 'MEAN_TEMP',\n",
       " 'L_TEMP',\n",
       " 'U_hPa',\n",
       " 'MEAN_PRES',\n",
       " 'MEAN_SUN',\n",
       " 'MEAN_LAND',\n",
       " 'ITEM_SS',\n",
       " 'ITEM_TP']"
      ]
     },
     "execution_count": 18,
     "metadata": {},
     "output_type": "execute_result"
    }
   ],
   "source": [
    "list(df_corr)"
   ]
  },
  {
   "cell_type": "code",
   "execution_count": 19,
   "metadata": {},
   "outputs": [],
   "source": [
    "keey = temp['key']\n",
    "\n",
    "keey.reset_index(drop=True, inplace=True)\n",
    "df_corr.reset_index(drop=True, inplace=True)\n",
    "\n",
    "temp = pd.concat([keey, df_corr], axis = 1)"
   ]
  },
  {
   "cell_type": "code",
   "execution_count": 20,
   "metadata": {},
   "outputs": [],
   "source": [
    "tem = temp[['key']]"
   ]
  },
  {
   "cell_type": "markdown",
   "metadata": {},
   "source": [
    "# 정규표현식(날짜 전처리)"
   ]
  },
  {
   "cell_type": "code",
   "execution_count": 21,
   "metadata": {},
   "outputs": [],
   "source": [
    "import re\n",
    "\n",
    "regex = r\"[가-힇]\"\n",
    "\n",
    "#test_str = \"2014.06.09서울\"\n",
    "\n",
    "subst = \"\"\n",
    "\n",
    "# You can manually specify the number of replacements by changing the 4th argument\n",
    "new_temp=[]\n",
    "#result = re.sub(regex, subst, test_str, 0, re.MULTILINE)\n",
    "\n",
    "for i in tem['key']:\n",
    "    new_temp.append(re.sub(regex, subst, i, 0, re.MULTILINE))\n",
    "\n",
    "    \n",
    "regex = r\"[.]\"\n",
    "\n",
    "#test_str = \"2014.06.09서울\"\n",
    "\n",
    "subst = \"-\"\n",
    "\n",
    "# You can manually specify the number of replacements by changing the 4th argument\n",
    "new_temp2=[]\n",
    "#result = re.sub(regex, subst, test_str, 0, re.MULTILINE)\n",
    "\n",
    "for i in new_temp:\n",
    "    new_temp2.append(re.sub(regex, subst, i, 0, re.MULTILINE))\n",
    "    \n",
    "regex = r\"[(]|[)]\"\n",
    "\n",
    "#test_str = \"2014.06.09서울\"\n",
    "\n",
    "subst = \"\"\n",
    "\n",
    "# You can manually specify the number of replacements by changing the 4th argument\n",
    "new_temp3=[]\n",
    "#result = re.sub(regex, subst, test_str, 0, re.MULTILINE)\n",
    "\n",
    "for i in new_temp2:\n",
    "    new_temp3.append(re.sub(regex, subst, i, 0, re.MULTILINE))\n"
   ]
  },
  {
   "cell_type": "code",
   "execution_count": 22,
   "metadata": {},
   "outputs": [],
   "source": [
    "temp['key'] = new_temp3"
   ]
  },
  {
   "cell_type": "code",
   "execution_count": 23,
   "metadata": {},
   "outputs": [],
   "source": [
    "key = list(temp['key'])\n",
    "\n",
    "#key_len = [i for i in key if len(i)==10]\n",
    "\n",
    "key_index = []\n",
    "for i in range(0,len(key)):\n",
    "    if len(key[i]) == 10 and key[i] != '2014-07-00':\n",
    "        key_index.append(i)\n",
    "#key_index"
   ]
  },
  {
   "cell_type": "code",
   "execution_count": 24,
   "metadata": {},
   "outputs": [],
   "source": [
    "temp = temp.iloc[key_index]\n",
    "#for i in range(0,len(temp['key'])):\n",
    " #   if len(temp['key'][i]) < 10:\n",
    " #       temp = temp.drop([i])"
   ]
  },
  {
   "cell_type": "code",
   "execution_count": 25,
   "metadata": {},
   "outputs": [],
   "source": [
    "import datetime"
   ]
  },
  {
   "cell_type": "code",
   "execution_count": 26,
   "metadata": {},
   "outputs": [],
   "source": [
    "temp = temp[temp['key'] != '15-Mar']\n",
    "temp = temp[temp['key'] != '16-Oct']\n",
    "temp = temp[temp['key'] != '16-Sep']\n",
    "temp = temp[temp['key'] != '16-Jul']\n",
    "temp = temp[temp['key'] != '16-May']\n",
    "temp = temp[temp['key'] != '16-Mar']\n",
    "temp = temp[temp['key'] != '15-Dec']\n",
    "temp = temp[temp['key'] != '15-Nov']\n",
    "temp = temp[temp['key'] != '15-Oct']\n",
    "temp = temp[temp['key'] != '15-Sep']\n",
    "temp = temp[temp['key'] != '15-Aug']\n",
    "temp = temp[temp['key'] != '15-Jul']\n",
    "temp = temp[temp['key'] != '15-May']\n",
    "temp = temp[temp['key'] != '15-Apr']\n",
    "temp = temp[temp['key'] != '15-Feb']\n",
    "temp = temp[temp['key'] != '15-Jan']\n",
    "temp = temp[temp['key'] != '16-Feb']\n",
    "temp = temp[temp['key'] != '16-Dec']"
   ]
  },
  {
   "cell_type": "code",
   "execution_count": 27,
   "metadata": {},
   "outputs": [],
   "source": [
    "temp['key'] = pd.to_datetime(temp['key'], format = '%Y-%m-%d')"
   ]
  },
  {
   "cell_type": "code",
   "execution_count": 28,
   "metadata": {},
   "outputs": [],
   "source": [
    "temp = temp.set_index('key')"
   ]
  },
  {
   "cell_type": "markdown",
   "metadata": {},
   "source": [
    "# Train test set 생성"
   ]
  },
  {
   "cell_type": "code",
   "execution_count": 29,
   "metadata": {},
   "outputs": [],
   "source": [
    "dataset = temp.sort_index()\n",
    "train_size = int(len(dataset) * 0.8)\n",
    "test_size = len(dataset) - train_size\n",
    "train = dataset.iloc[0:train_size,:]\n",
    "test = dataset.iloc[train_size:len(dataset),]"
   ]
  },
  {
   "cell_type": "code",
   "execution_count": 31,
   "metadata": {},
   "outputs": [],
   "source": [
    "y_train = train[['ITEM_BOD']].sort_index()\n",
    "x_train = train[[ 'ITEM_TEMP', 'ITEM_COD',  'ITEM_TN',  'MEAN_TEMP',  'L_TEMP', 'U_hPa', 'MEAN_PRES', 'MEAN_SUN', 'MEAN_LAND', 'ITEM_SS', 'ITEM_TP']].sort_index()\n",
    "\n",
    "y_test = test[['ITEM_BOD']].sort_index()\n",
    "x_test = test[[ 'ITEM_TEMP',  'ITEM_COD',  'ITEM_TN',  'MEAN_TEMP',  'L_TEMP', 'U_hPa', 'MEAN_PRES', 'MEAN_SUN', 'MEAN_LAND', 'ITEM_SS', 'ITEM_TP']].sort_index()"
   ]
  },
  {
   "cell_type": "markdown",
   "metadata": {},
   "source": [
    "# ndarray로 변환하기"
   ]
  },
  {
   "cell_type": "code",
   "execution_count": 32,
   "metadata": {},
   "outputs": [],
   "source": [
    "x_train = x_train.values\n",
    "x_test = x_test.values\n",
    "\n",
    "y_train = y_train.values\n",
    "y_test = y_test.values"
   ]
  },
  {
   "cell_type": "code",
   "execution_count": 33,
   "metadata": {},
   "outputs": [],
   "source": [
    "x_train_t = x_train.reshape(x_train.shape[0],11,1)\n",
    "x_test_t = x_test.reshape(x_test.shape[0],11,1)"
   ]
  },
  {
   "cell_type": "code",
   "execution_count": 34,
   "metadata": {},
   "outputs": [
    {
     "name": "stdout",
     "output_type": "stream",
     "text": [
      "최종 DATA\n",
      "(85963, 11, 1)\n"
     ]
    }
   ],
   "source": [
    "print(\"최종 DATA\")\n",
    "print(x_train_t.shape)"
   ]
  },
  {
   "cell_type": "markdown",
   "metadata": {},
   "source": [
    "# LSTM 모델 만들기"
   ]
  },
  {
   "cell_type": "code",
   "execution_count": 35,
   "metadata": {},
   "outputs": [],
   "source": [
    "K.clear_session()\n",
    "model = Sequential()\n",
    "model.add(LSTM(20,input_shape = (11,1))) # layer = 20\n",
    "model.add(Dense(1)) # output = 1\n",
    "model.compile(loss = 'mean_squared_error', optimizer = 'adam')\n",
    "early_stop = EarlyStopping(monitor = 'loss', patience = 1, verbose = 1, mode = 'auto')"
   ]
  },
  {
   "cell_type": "code",
   "execution_count": 36,
   "metadata": {},
   "outputs": [
    {
     "name": "stdout",
     "output_type": "stream",
     "text": [
      "Epoch 1/30\n",
      "85963/85963 [==============================] - 12s 144us/step - loss: 0.01520s - lo\n",
      "Epoch 2/30\n",
      "85963/85963 [==============================] - 11s 133us/step - loss: 0.01341s - l - ETA:\n",
      "Epoch 3/30\n",
      "85963/85963 [==============================] - 11s 130us/step - loss: 0.01310s \n",
      "Epoch 4/30\n",
      "85963/85963 [==============================] - 10s 121us/step - loss: 0.0125\n",
      "Epoch 5/30\n",
      "85963/85963 [==============================] - 11s 124us/step - loss: 0.0119\n",
      "Epoch 6/30\n",
      "85963/85963 [==============================] - 11s 123us/step - loss: 0.0115\n",
      "Epoch 7/30\n",
      "85963/85963 [==============================] - 10s 112us/step - loss: 0.0113\n",
      "Epoch 8/30\n",
      "85963/85963 [==============================] - 10s 118us/step - loss: 0.0110\n",
      "Epoch 9/30\n",
      "85963/85963 [==============================] - 10s 122us/step - loss: 0.0107\n",
      "Epoch 10/30\n",
      "85963/85963 [==============================] - 10s 116us/step - loss: 0.0104\n",
      "Epoch 11/30\n",
      "85963/85963 [==============================] - 10s 122us/step - loss: 0.0103\n",
      "Epoch 12/30\n",
      "85963/85963 [==============================] - 10s 121us/step - loss: 0.0102\n",
      "Epoch 13/30\n",
      "85963/85963 [==============================] - 14s 163us/step - loss: 0.0102\n",
      "Epoch 14/30\n",
      "85963/85963 [==============================] - 13s 146us/step - loss: 0.0102\n",
      "Epoch 15/30\n",
      "85963/85963 [==============================] - 11s 127us/step - loss: 0.0101\n",
      "Epoch 16/30\n",
      "85963/85963 [==============================] - 11s 129us/step - loss: 0.0101\n",
      "Epoch 17/30\n",
      "85963/85963 [==============================] - 11s 126us/step - loss: 0.01000s -\n",
      "Epoch 18/30\n",
      "85963/85963 [==============================] - 12s 143us/step - loss: 0.0100\n",
      "Epoch 19/30\n",
      "85963/85963 [==============================] - 11s 124us/step - loss: 0.0099\n",
      "Epoch 20/30\n",
      "85963/85963 [==============================] - 10s 120us/step - loss: 0.0099\n",
      "Epoch 21/30\n",
      "85963/85963 [==============================] - 11s 124us/step - loss: 0.00990s - l\n",
      "Epoch 22/30\n",
      "85963/85963 [==============================] - 11s 122us/step - loss: 0.00980s - lo\n",
      "Epoch 23/30\n",
      "85963/85963 [==============================] - 11s 131us/step - loss: 0.0097\n",
      "Epoch 24/30\n",
      "85963/85963 [==============================] - 12s 141us/step - loss: 0.0096\n",
      "Epoch 25/30\n",
      "85963/85963 [==============================] - 12s 140us/step - loss: 0.0096\n",
      "Epoch 26/30\n",
      "85963/85963 [==============================] - 13s 148us/step - loss: 0.0095\n",
      "Epoch 27/30\n",
      "85963/85963 [==============================] - 12s 145us/step - loss: 0.0095\n",
      "Epoch 28/30\n",
      "85963/85963 [==============================] - 11s 130us/step - loss: 0.0095\n",
      "Epoch 29/30\n",
      "85963/85963 [==============================] - 12s 140us/step - loss: 0.0094\n",
      "Epoch 30/30\n",
      "85963/85963 [==============================] - 11s 132us/step - loss: 0.0094\n",
      "Epoch 00030: early stopping\n"
     ]
    },
    {
     "data": {
      "text/plain": [
       "<keras.callbacks.callbacks.History at 0x2c48f4d4f60>"
      ]
     },
     "execution_count": 36,
     "metadata": {},
     "output_type": "execute_result"
    }
   ],
   "source": [
    "model.fit(x_train_t, y_train, epochs = 30, batch_size = 100, verbose = 1, callbacks = [early_stop])"
   ]
  },
  {
   "cell_type": "code",
   "execution_count": 37,
   "metadata": {},
   "outputs": [
    {
     "data": {
      "text/html": [
       "<div>\n",
       "<style scoped>\n",
       "    .dataframe tbody tr th:only-of-type {\n",
       "        vertical-align: middle;\n",
       "    }\n",
       "\n",
       "    .dataframe tbody tr th {\n",
       "        vertical-align: top;\n",
       "    }\n",
       "\n",
       "    .dataframe thead th {\n",
       "        text-align: right;\n",
       "    }\n",
       "</style>\n",
       "<table border=\"1\" class=\"dataframe\">\n",
       "  <thead>\n",
       "    <tr style=\"text-align: right;\">\n",
       "      <th></th>\n",
       "      <th>ITEM_BOD_TEST</th>\n",
       "      <th>ITEM_BOD_PRED</th>\n",
       "    </tr>\n",
       "  </thead>\n",
       "  <tbody>\n",
       "    <tr>\n",
       "      <th>0</th>\n",
       "      <td>0.445432</td>\n",
       "      <td>0.473374</td>\n",
       "    </tr>\n",
       "    <tr>\n",
       "      <th>1</th>\n",
       "      <td>0.680255</td>\n",
       "      <td>0.628499</td>\n",
       "    </tr>\n",
       "    <tr>\n",
       "      <th>2</th>\n",
       "      <td>0.500685</td>\n",
       "      <td>0.574964</td>\n",
       "    </tr>\n",
       "    <tr>\n",
       "      <th>3</th>\n",
       "      <td>0.348741</td>\n",
       "      <td>0.455091</td>\n",
       "    </tr>\n",
       "    <tr>\n",
       "      <th>4</th>\n",
       "      <td>0.390180</td>\n",
       "      <td>0.428638</td>\n",
       "    </tr>\n",
       "  </tbody>\n",
       "</table>\n",
       "</div>"
      ],
      "text/plain": [
       "   ITEM_BOD_TEST  ITEM_BOD_PRED\n",
       "0       0.445432       0.473374\n",
       "1       0.680255       0.628499\n",
       "2       0.500685       0.574964\n",
       "3       0.348741       0.455091\n",
       "4       0.390180       0.428638"
      ]
     },
     "execution_count": 37,
     "metadata": {},
     "output_type": "execute_result"
    }
   ],
   "source": [
    "y_pred = model.predict(x_test_t)\n",
    "\n",
    "y_test = pd.DataFrame(y_test, columns = ['ITEM_BOD_TEST'])\n",
    "y_pred = pd.DataFrame(y_pred, columns = ['ITEM_BOD_PRED'])\n",
    "\n",
    "result = pd.concat([y_test, y_pred], axis = 1)\n",
    "result = pd.DataFrame(result, columns = ['ITEM_BOD_TEST', 'ITEM_BOD_PRED'])\n",
    "\n",
    "result.head()"
   ]
  },
  {
   "cell_type": "markdown",
   "metadata": {},
   "source": [
    "# RMSE"
   ]
  },
  {
   "cell_type": "code",
   "execution_count": 38,
   "metadata": {},
   "outputs": [
    {
     "data": {
      "text/plain": [
       "0.12217860986945188"
      ]
     },
     "execution_count": 38,
     "metadata": {},
     "output_type": "execute_result"
    }
   ],
   "source": [
    "from sklearn.metrics import mean_squared_error\n",
    "mse = mean_squared_error(result['ITEM_BOD_TEST'], result['ITEM_BOD_PRED'])\n",
    "rmse = np.sqrt(mse)\n",
    "rmse"
   ]
  },
  {
   "cell_type": "code",
   "execution_count": 39,
   "metadata": {},
   "outputs": [
    {
     "name": "stdout",
     "output_type": "stream",
     "text": [
      "0.12217860986945168\n"
     ]
    }
   ],
   "source": [
    "a = 0\n",
    "for i in range(0, len(result)):\n",
    "    a += pow((result['ITEM_BOD_TEST'][i] - result['ITEM_BOD_PRED'][i]),2)\n",
    "\n",
    "RMSE = math.sqrt((1/len(result)) * a)\n",
    "print(RMSE)"
   ]
  },
  {
   "cell_type": "markdown",
   "metadata": {},
   "source": [
    "# R^2"
   ]
  },
  {
   "cell_type": "code",
   "execution_count": 40,
   "metadata": {},
   "outputs": [
    {
     "data": {
      "text/plain": [
       "0.3082064713977172"
      ]
     },
     "execution_count": 40,
     "metadata": {},
     "output_type": "execute_result"
    }
   ],
   "source": [
    "RSS = 0\n",
    "for i in range(0,len(result)):\n",
    "    RSS += pow((result['ITEM_BOD_PRED'][i] - result['ITEM_BOD_TEST'][i]),2)  ## residual sum of squares\n",
    "    \n",
    "TSS = 0\n",
    "for i in range(0,len(result)):\n",
    "    TSS += pow((result['ITEM_BOD_TEST'][i]- result['ITEM_BOD_TEST'].mean()), 2)  ## total sum of squares\n",
    "    \n",
    "R_Square = 1 - RSS/TSS\n",
    "R_Square"
   ]
  },
  {
   "cell_type": "markdown",
   "metadata": {},
   "source": [
    "# 그래프 그리기"
   ]
  },
  {
   "cell_type": "code",
   "execution_count": 41,
   "metadata": {},
   "outputs": [
    {
     "data": {
      "text/plain": [
       "<matplotlib.axes._subplots.AxesSubplot at 0x2c48f2ee8d0>"
      ]
     },
     "execution_count": 41,
     "metadata": {},
     "output_type": "execute_result"
    },
    {
     "data": {
      "image/png": "[encoded data removed]",
      "text/plain": [
       "<Figure size 432x288 with 1 Axes>"
      ]
     },
     "metadata": {
      "needs_background": "light"
     },
     "output_type": "display_data"
    }
   ],
   "source": [
    "result.plot()"
   ]
  },
  {
   "cell_type": "code",
   "execution_count": null,
   "metadata": {},
   "outputs": [],
   "source": []
  }
 ],
 "metadata": {
  "kernelspec": {
   "display_name": "Python 3",
   "language": "python",
   "name": "python3"
  },
  "language_info": {
   "codemirror_mode": {
    "name": "ipython",
    "version": 3
   },
   "file_extension": ".py",
   "mimetype": "text/x-python",
   "name": "python",
   "nbconvert_exporter": "python",
   "pygments_lexer": "ipython3",
   "version": "3.7.3"
  }
 },
 "nbformat": 4,
 "nbformat_minor": 2
}
